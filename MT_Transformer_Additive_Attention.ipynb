{
  "cells": [
    {
      "cell_type": "markdown",
      "metadata": {
        "id": "5zH0K5vGVlY2"
      },
      "source": [
        "# Machine Translation + Transformer\n",
        "\n",
        "<img src = \"../figures/transformer1.png\" >"
      ]
    },
    {
      "cell_type": "code",
      "source": [
        "# !pip install torchdata\n",
        "# !pip install torch==2.2.0 torchtext==0.17.0"
      ],
      "metadata": {
        "collapsed": true,
        "id": "z-XorRi_V0qN"
      },
      "execution_count": 1449,
      "outputs": []
    },
    {
      "cell_type": "code",
      "source": [
        "# !pip install datasets\n",
        "# !pip install pyidaungsu"
      ],
      "metadata": {
        "collapsed": true,
        "id": "51frOXK4KGpy"
      },
      "execution_count": 1450,
      "outputs": []
    },
    {
      "cell_type": "code",
      "execution_count": 1451,
      "metadata": {
        "colab": {
          "base_uri": "https://localhost:8080/"
        },
        "id": "1achhdMOVlY4",
        "outputId": "58794b3f-674f-4d40-94c7-5929b284a6da"
      },
      "outputs": [
        {
          "output_type": "stream",
          "name": "stdout",
          "text": [
            "cuda\n"
          ]
        }
      ],
      "source": [
        "import torch, torchdata, torchtext\n",
        "import torch.nn as nn\n",
        "import torch.nn.functional as F\n",
        "\n",
        "import random, math, time\n",
        "\n",
        "device = torch.device('cuda' if torch.cuda.is_available() else 'cpu')\n",
        "print(device)\n",
        "\n",
        "#make our work comparable if restarted the kernel\n",
        "SEED = 1234\n",
        "torch.manual_seed(SEED)\n",
        "torch.backends.cudnn.deterministic = True"
      ]
    },
    {
      "cell_type": "code",
      "execution_count": 1452,
      "metadata": {
        "id": "vicj79XSVlY7"
      },
      "outputs": [],
      "source": [
        "# torch.cuda.get_device_name(0)"
      ]
    },
    {
      "cell_type": "code",
      "execution_count": 1453,
      "metadata": {
        "colab": {
          "base_uri": "https://localhost:8080/",
          "height": 36
        },
        "id": "WggQSyw1VlY8",
        "outputId": "97791541-711c-4eaa-e7b6-d14a176cb9fc"
      },
      "outputs": [
        {
          "output_type": "execute_result",
          "data": {
            "text/plain": [
              "'2.2.0+cu121'"
            ],
            "application/vnd.google.colaboratory.intrinsic+json": {
              "type": "string"
            }
          },
          "metadata": {},
          "execution_count": 1453
        }
      ],
      "source": [
        "torch.__version__"
      ]
    },
    {
      "cell_type": "code",
      "execution_count": 1454,
      "metadata": {
        "colab": {
          "base_uri": "https://localhost:8080/",
          "height": 36
        },
        "id": "9XZX5y12VlY9",
        "outputId": "843f283e-41b6-4864-ea23-98259240f022"
      },
      "outputs": [
        {
          "output_type": "execute_result",
          "data": {
            "text/plain": [
              "'0.17.0+cpu'"
            ],
            "application/vnd.google.colaboratory.intrinsic+json": {
              "type": "string"
            }
          },
          "metadata": {},
          "execution_count": 1454
        }
      ],
      "source": [
        "torchtext.__version__"
      ]
    },
    {
      "cell_type": "markdown",
      "metadata": {
        "jp-MarkdownHeadingCollapsed": true,
        "tags": [],
        "id": "IACCellNVlY-"
      },
      "source": [
        "## 1. ETL: Loading the dataset\n",
        "\n",
        "**Note**: Here I chose to translate English to German, simply it is easier for myself, since I don't understand German so it is difficult for me to imagine a sentence during inference."
      ]
    },
    {
      "cell_type": "code",
      "source": [
        "from datasets import load_dataset, Dataset\n",
        "import pandas as pd\n",
        "import re\n",
        "import pyidaungsu"
      ],
      "metadata": {
        "id": "NgYgL7qzk50Q"
      },
      "execution_count": 1455,
      "outputs": []
    },
    {
      "cell_type": "code",
      "source": [
        "# # Load dataset from Hugging Face\n",
        "# dataset = load_dataset(\"simbolo-ai/hola\")"
      ],
      "metadata": {
        "id": "OgOpgUmlJXKH"
      },
      "execution_count": 1456,
      "outputs": []
    },
    {
      "cell_type": "code",
      "source": [
        "# # Convert to pandas dataframe\n",
        "# df = dataset['train'].to_pandas()"
      ],
      "metadata": {
        "id": "RCP0lyuzJiZF"
      },
      "execution_count": 1457,
      "outputs": []
    },
    {
      "cell_type": "code",
      "source": [
        "# # Filter for English (en) and Burmese (my) texts\n",
        "# df_en = df[df['label'] == 'en'].reset_index(drop=True)\n",
        "# df_my = df[df['label'] == 'my'].reset_index(drop=True)"
      ],
      "metadata": {
        "id": "EzpSTZkYJjeR"
      },
      "execution_count": 1458,
      "outputs": []
    },
    {
      "cell_type": "code",
      "source": [
        "# # en and my alignment\n",
        "# df_aligned = pd.DataFrame({\n",
        "#     \"English\": df_en[\"text\"].values,\n",
        "#     \"Burmese\": df_my[\"text\"].values\n",
        "# })"
      ],
      "metadata": {
        "id": "ojvH8_UoJQep"
      },
      "execution_count": 1459,
      "outputs": []
    },
    {
      "cell_type": "code",
      "source": [
        "# def preprocess_text(text, language=\"en\"):\n",
        "#     text = text.lower().strip()  # Lowercasing & trimming spaces\n",
        "\n",
        "#     if language == \"my\":  # For Burmese\n",
        "#         text = re.sub(r\"[^a-zA-Zက-အ0-9\\s]\", \"\", text)  # Remove special characters but keep Burmese characters\n",
        "#     else:\n",
        "#         text = re.sub(r\"[^a-zA-Z0-9\\s]\", \"\", text)  # Remove special characters for non-Burmese languages\n",
        "\n",
        "#     return text  # Return full, unsegmented text"
      ],
      "metadata": {
        "id": "VgSmrwpOTDrR"
      },
      "execution_count": 1460,
      "outputs": []
    },
    {
      "cell_type": "code",
      "source": [
        "# # Save to CSV for further processing\n",
        "# df_aligned.to_csv(\"data/processed_translation_data.csv\", index=False)"
      ],
      "metadata": {
        "id": "Rbl1rxYhShh-"
      },
      "execution_count": 1461,
      "outputs": []
    },
    {
      "cell_type": "code",
      "source": [
        "# # Initialize Pyidaungsu tokenizer\n",
        "# tokenizer = pyidaungsu.Tokenize()"
      ],
      "metadata": {
        "id": "NHFSDOqpJslG"
      },
      "execution_count": 1462,
      "outputs": []
    },
    {
      "cell_type": "code",
      "source": [
        "# # Preprocessing function\n",
        "# def preprocess_text(text, language=\"en\"):\n",
        "#     text = text.lower().strip()  # Lowercasing & trimming spaces\n",
        "#     text = re.sub(r\"[^a-zA-Zက-အ0-9\\s]\", \"\", text)  # Remove special characters\n",
        "#     if language == \"my\":\n",
        "#         text = \" \".join(tokenizer.tokenize(text))  # Tokenize Burmese text\n",
        "#     return text"
      ],
      "metadata": {
        "id": "9VgT4I7cJuoM"
      },
      "execution_count": 1463,
      "outputs": []
    },
    {
      "cell_type": "code",
      "source": [
        "# # Apply preprocessing\n",
        "# df_aligned[\"English\"] = df_aligned[\"English\"].apply(lambda x: preprocess_text(x, \"en\"))\n",
        "# df_aligned[\"Burmese\"] = df_aligned[\"Burmese\"].apply(lambda x: preprocess_text(x, \"my\"))\n",
        "\n",
        "# Save to CSV for further processing\n",
        "# df_aligned.to_csv(\"data/processed_translation_data.csv\", index=False)"
      ],
      "metadata": {
        "id": "B2M_SKQFJfSn"
      },
      "execution_count": 1464,
      "outputs": []
    },
    {
      "cell_type": "code",
      "source": [
        "# df_aligned.head()"
      ],
      "metadata": {
        "id": "deBHMpgdRnOl"
      },
      "execution_count": 1465,
      "outputs": []
    },
    {
      "cell_type": "code",
      "source": [
        "# Load the preprocessed dataset\n",
        "df = pd.read_csv(\"data/processed_translation_data.csv\")\n",
        "train_df = Dataset.from_pandas(df)"
      ],
      "metadata": {
        "id": "GSFT83GvMH55"
      },
      "execution_count": 1466,
      "outputs": []
    },
    {
      "cell_type": "code",
      "source": [
        "type(train_df)"
      ],
      "metadata": {
        "colab": {
          "base_uri": "https://localhost:8080/",
          "height": 139
        },
        "id": "eQaHDuYvuzM7",
        "outputId": "b9bfd99d-7029-4898-95b0-0b1764cedab7"
      },
      "execution_count": 1467,
      "outputs": [
        {
          "output_type": "execute_result",
          "data": {
            "text/plain": [
              "datasets.arrow_dataset.Dataset"
            ],
            "text/html": [
              "<div style=\"max-width:800px; border: 1px solid var(--colab-border-color);\"><style>\n",
              "      pre.function-repr-contents {\n",
              "        overflow-x: auto;\n",
              "        padding: 8px 12px;\n",
              "        max-height: 500px;\n",
              "      }\n",
              "\n",
              "      pre.function-repr-contents.function-repr-contents-collapsed {\n",
              "        cursor: pointer;\n",
              "        max-height: 100px;\n",
              "      }\n",
              "    </style>\n",
              "    <pre style=\"white-space: initial; background:\n",
              "         var(--colab-secondary-surface-color); padding: 8px 12px;\n",
              "         border-bottom: 1px solid var(--colab-border-color);\"><b>datasets.arrow_dataset.Dataset</b><br/>def __init__(arrow_table: Table, info: Optional[DatasetInfo]=None, split: Optional[NamedSplit]=None, indices_table: Optional[Table]=None, fingerprint: Optional[str]=None)</pre><pre class=\"function-repr-contents function-repr-contents-collapsed\" style=\"\"><a class=\"filepath\" style=\"display:none\" href=\"#\">/usr/local/lib/python3.11/dist-packages/datasets/arrow_dataset.py</a>A Dataset backed by an Arrow table.</pre>\n",
              "      <script>\n",
              "      if (google.colab.kernel.accessAllowed && google.colab.files && google.colab.files.view) {\n",
              "        for (const element of document.querySelectorAll('.filepath')) {\n",
              "          element.style.display = 'block'\n",
              "          element.onclick = (event) => {\n",
              "            event.preventDefault();\n",
              "            event.stopPropagation();\n",
              "            google.colab.files.view(element.textContent, 631);\n",
              "          };\n",
              "        }\n",
              "      }\n",
              "      for (const element of document.querySelectorAll('.function-repr-contents')) {\n",
              "        element.onclick = (event) => {\n",
              "          event.preventDefault();\n",
              "          event.stopPropagation();\n",
              "          element.classList.toggle('function-repr-contents-collapsed');\n",
              "        };\n",
              "      }\n",
              "      </script>\n",
              "      </div>"
            ]
          },
          "metadata": {},
          "execution_count": 1467
        }
      ]
    },
    {
      "cell_type": "code",
      "source": [
        "train = [(row['English'], row['Burmese']) for row in train_df]"
      ],
      "metadata": {
        "id": "hjMtM_fwu3b-"
      },
      "execution_count": 1468,
      "outputs": []
    },
    {
      "cell_type": "code",
      "source": [
        "train[0]"
      ],
      "metadata": {
        "colab": {
          "base_uri": "https://localhost:8080/"
        },
        "id": "b1cyGTdbu4Dz",
        "outputId": "41eaa5a0-cdf4-4271-b2e3-8a01e534bc98"
      },
      "execution_count": 1469,
      "outputs": [
        {
          "output_type": "execute_result",
          "data": {
            "text/plain": [
              "('Human evolution is the evolutionary process within the history of primates that led to the emergence of Homo sapiens as a distinct species of the hominid family, which includes all the great apes',\n",
              " 'ဇီဝဗေဒ ပညာတွင် ဆင့်ကဲပြောင်းလဲမှုဖြစ်စဉ် သို့မဟုတ် အီဗော်လူးရှင်း ဆိုသည်မှာ သက်ရှိအစုအဝေးများတွင် တွေ့ရသော မျိုးရိုးလိုက်သည့် လက္ခဏာရပ်များ အချိန်နှင့် အမျှ ပြောင်းလဲသွားခြင်းကို ခေါ်ဆိုခြင်း ဖြစ်သည်')"
            ]
          },
          "metadata": {},
          "execution_count": 1469
        }
      ]
    },
    {
      "cell_type": "code",
      "source": [
        "# train_dataset = Dataset.from_pandas(df)"
      ],
      "metadata": {
        "id": "KWbQpWtiVP5B"
      },
      "execution_count": 1470,
      "outputs": []
    },
    {
      "cell_type": "code",
      "source": [
        "# type(train_dataset)"
      ],
      "metadata": {
        "id": "3RNZoVddVRMv"
      },
      "execution_count": 1471,
      "outputs": []
    },
    {
      "cell_type": "code",
      "source": [
        "# type(train_dataset)"
      ],
      "metadata": {
        "id": "RW59htKFVotH"
      },
      "execution_count": 1472,
      "outputs": []
    },
    {
      "cell_type": "code",
      "source": [
        "# df.head()"
      ],
      "metadata": {
        "id": "if2hlfKHTbRX"
      },
      "execution_count": 1473,
      "outputs": []
    },
    {
      "cell_type": "code",
      "source": [
        "# !pip install portalocker>=2.0.0\n",
        "# import portalocker"
      ],
      "metadata": {
        "id": "V_jkC8C4Yxau"
      },
      "execution_count": 1474,
      "outputs": []
    },
    {
      "cell_type": "code",
      "source": [
        "# from torchtext.datasets import Multi30k\n",
        "# from torchtext.data.utils import get_tokenizer\n",
        "# from torchtext.vocab import build_vocab_from_iterator\n",
        "# from torch.nn.utils.rnn import pad_sequence\n",
        "# from torch.utils.data import DataLoader"
      ],
      "metadata": {
        "id": "OhxqiuQ7ZHDA"
      },
      "execution_count": 1475,
      "outputs": []
    },
    {
      "cell_type": "code",
      "execution_count": 1476,
      "metadata": {
        "id": "p9tVckZpVlY-"
      },
      "outputs": [],
      "source": [
        "# from torchtext.datasets import Multi30k\n",
        "\n",
        "# SRC_LANGUAGE = 'en'\n",
        "# TRG_LANGUAGE = 'de'\n",
        "\n",
        "# train = Multi30k(split=('train'), language_pair=(SRC_LANGUAGE, TRG_LANGUAGE))"
      ]
    },
    {
      "cell_type": "code",
      "execution_count": 1477,
      "metadata": {
        "id": "yPs3IGnzVlY-"
      },
      "outputs": [],
      "source": [
        "# #so this is a datapipe object; very similar to pytorch dataset version 2 which is better\n",
        "# train"
      ]
    },
    {
      "cell_type": "markdown",
      "metadata": {
        "tags": [],
        "id": "-pbb8qLfVlY_"
      },
      "source": [
        "## 2. EDA - simple investigation"
      ]
    },
    {
      "cell_type": "code",
      "execution_count": 1478,
      "metadata": {
        "colab": {
          "base_uri": "https://localhost:8080/"
        },
        "id": "aRfKmscwVlY_",
        "outputId": "bdf8bebc-c2c6-49b9-f066-ee7bcea8505c"
      },
      "outputs": [
        {
          "output_type": "execute_result",
          "data": {
            "text/plain": [
              "('Human evolution is the evolutionary process within the history of primates that led to the emergence of Homo sapiens as a distinct species of the hominid family, which includes all the great apes',\n",
              " 'ဇီဝဗေဒ ပညာတွင် ဆင့်ကဲပြောင်းလဲမှုဖြစ်စဉ် သို့မဟုတ် အီဗော်လူးရှင်း ဆိုသည်မှာ သက်ရှိအစုအဝေးများတွင် တွေ့ရသော မျိုးရိုးလိုက်သည့် လက္ခဏာရပ်များ အချိန်နှင့် အမျှ ပြောင်းလဲသွားခြင်းကို ခေါ်ဆိုခြင်း ဖြစ်သည်')"
            ]
          },
          "metadata": {},
          "execution_count": 1478
        }
      ],
      "source": [
        "#let's take a look at one example of train\n",
        "sample = train[0]\n",
        "sample"
      ]
    },
    {
      "cell_type": "code",
      "source": [
        "# sample = next(iter(train_dataset))\n",
        "# sample"
      ],
      "metadata": {
        "id": "ZbsdSNOiVuzv"
      },
      "execution_count": 1479,
      "outputs": []
    },
    {
      "cell_type": "code",
      "execution_count": 1480,
      "metadata": {
        "colab": {
          "base_uri": "https://localhost:8080/"
        },
        "id": "vqiBkYqbVlZA",
        "outputId": "8d01a64a-7b83-4248-8183-3a8a19ae3873"
      },
      "outputs": [
        {
          "output_type": "execute_result",
          "data": {
            "text/plain": [
              "10000"
            ]
          },
          "metadata": {},
          "execution_count": 1480
        }
      ],
      "source": [
        "train_size = len(list(iter(train_df)))\n",
        "train_size"
      ]
    },
    {
      "cell_type": "code",
      "source": [
        "# train_size = len(list(iter(train_dataset)))\n",
        "# train_size"
      ],
      "metadata": {
        "id": "11ti-JdSV07s"
      },
      "execution_count": 1481,
      "outputs": []
    },
    {
      "cell_type": "code",
      "source": [
        "# type(train_df)"
      ],
      "metadata": {
        "id": "AQIqovsqUnI_"
      },
      "execution_count": 1482,
      "outputs": []
    },
    {
      "cell_type": "markdown",
      "metadata": {
        "id": "VrAa0EdWVlZA"
      },
      "source": [
        "Since 29001 is plenty,, we gonna call `random_split` to train, val and test"
      ]
    },
    {
      "cell_type": "code",
      "source": [
        "from datasets import DatasetDict\n",
        "\n",
        "# Assuming train_df is a datasets.Dataset object\n",
        "# Split the dataset using Dataset.train_test_split\n",
        "train_testvalid = train_df.train_test_split(test_size=0.3, seed=999)\n",
        "\n",
        "# Further split the test set into validation and test sets\n",
        "test_valid = train_testvalid['test'].train_test_split(test_size=0.4, seed=999)\n",
        "\n",
        "# Access the individual splits as Dataset objects\n",
        "train_dataset = train_testvalid['train']\n",
        "val_dataset = test_valid['train']\n",
        "test_dataset = test_valid['test']\n",
        "\n",
        "# Convert to list of tuples if needed\n",
        "train = [(row['English'], row['Burmese']) for row in train_dataset]\n",
        "val = [(row['English'], row['Burmese']) for row in val_dataset]\n",
        "test = [(row['English'], row['Burmese']) for row in test_dataset]"
      ],
      "metadata": {
        "id": "IyxTfFyLuUYw"
      },
      "execution_count": 1483,
      "outputs": []
    },
    {
      "cell_type": "code",
      "source": [
        "# # Assuming 'train' is your Hugging Face Dataset object\n",
        "# train, val, test = train.train_test_split(\n",
        "#     test_size=0.3,  # Adjust as needed for your desired split\n",
        "#     train_size=0.7,\n",
        "#     seed=999  # For reproducibility\n",
        "# ).values()  # Extract the dataset splits using .values()"
      ],
      "metadata": {
        "id": "RqlL2xHQP6Es"
      },
      "execution_count": 1484,
      "outputs": []
    },
    {
      "cell_type": "code",
      "source": [
        "# train_dataset, test = train_df.train_test_split(\n",
        "#     test_size=0.1,\n",
        "#     seed=999\n",
        "# ).values()"
      ],
      "metadata": {
        "id": "MJPLfnrRYYF7"
      },
      "execution_count": 1485,
      "outputs": []
    },
    {
      "cell_type": "code",
      "source": [
        "# train, val = train_dataset.train_test_split(test_size=0.2, seed=999).values()"
      ],
      "metadata": {
        "id": "3neM4H7FYil7"
      },
      "execution_count": 1486,
      "outputs": []
    },
    {
      "cell_type": "code",
      "source": [
        "# train, val_test = train.train_test_split(\n",
        "#     test_size=0.3,  # Adjust as needed for your desired split\n",
        "#     seed=999  # For reproducibility\n",
        "# ).values()"
      ],
      "metadata": {
        "id": "_Ne39hhLYGIg"
      },
      "execution_count": 1487,
      "outputs": []
    },
    {
      "cell_type": "code",
      "source": [
        "# val, test = val_test.train_test_split(test_size=0.3, seed=999).values()"
      ],
      "metadata": {
        "id": "p6EiY536YHWY"
      },
      "execution_count": 1488,
      "outputs": []
    },
    {
      "cell_type": "code",
      "source": [
        "# train, test = train.train_test_split(test_size=0.1, seed=999)"
      ],
      "metadata": {
        "id": "15ygyAL1UdOZ"
      },
      "execution_count": 1489,
      "outputs": []
    },
    {
      "cell_type": "code",
      "source": [
        "# train, val = train.train_test_split(test_size=0.1, seed=999)"
      ],
      "metadata": {
        "id": "5-709cO4V-Ea"
      },
      "execution_count": 1490,
      "outputs": []
    },
    {
      "cell_type": "code",
      "execution_count": 1491,
      "metadata": {
        "id": "jiN1iD6oVlZA"
      },
      "outputs": [],
      "source": [
        "# train, test = train.random_split(total_length=train_size, weights = {\"train\": 0.7, \"val\": 0.2, \"test\": 0.1}, seed=999)"
      ]
    },
    {
      "cell_type": "code",
      "execution_count": 1492,
      "metadata": {
        "colab": {
          "base_uri": "https://localhost:8080/"
        },
        "id": "IaAqvEyOVlZA",
        "outputId": "a1eb81ee-dc08-486b-c335-4083b30f6aef"
      },
      "outputs": [
        {
          "output_type": "execute_result",
          "data": {
            "text/plain": [
              "7000"
            ]
          },
          "metadata": {},
          "execution_count": 1492
        }
      ],
      "source": [
        "train_size = len(list(iter(train)))\n",
        "train_size"
      ]
    },
    {
      "cell_type": "code",
      "execution_count": 1493,
      "metadata": {
        "colab": {
          "base_uri": "https://localhost:8080/"
        },
        "id": "DfuvGwXIVlZB",
        "outputId": "1c16e41c-d83b-485c-c2c8-4e2fc4cfe115"
      },
      "outputs": [
        {
          "output_type": "execute_result",
          "data": {
            "text/plain": [
              "1800"
            ]
          },
          "metadata": {},
          "execution_count": 1493
        }
      ],
      "source": [
        "val_size = len(list(iter(val)))\n",
        "val_size"
      ]
    },
    {
      "cell_type": "code",
      "execution_count": 1494,
      "metadata": {
        "colab": {
          "base_uri": "https://localhost:8080/"
        },
        "id": "N_g-UifpVlZB",
        "outputId": "1f4cc212-b5d2-425e-b242-425945a16a15"
      },
      "outputs": [
        {
          "output_type": "execute_result",
          "data": {
            "text/plain": [
              "1200"
            ]
          },
          "metadata": {},
          "execution_count": 1494
        }
      ],
      "source": [
        "test_size = len(list(iter(test)))\n",
        "test_size"
      ]
    },
    {
      "cell_type": "markdown",
      "metadata": {
        "jp-MarkdownHeadingCollapsed": true,
        "tags": [],
        "id": "YQRI054OVlZB"
      },
      "source": [
        "## 3. Preprocessing\n",
        "\n",
        "### Tokenizing\n",
        "\n",
        "**Note**: the models must first be downloaded using the following on the command line:\n",
        "```\n",
        "python3 -m spacy download en_core_web_sm\n",
        "python3 -m spacy download de_core_news_sm\n",
        "```\n",
        "\n",
        "First, since we have two languages, let's create some constants to represent that.  Also, let's create two dicts: one for holding our tokenizers and one for holding all the vocabs with assigned numbers for each unique word"
      ]
    },
    {
      "cell_type": "code",
      "source": [
        "# !python -m spacy download en_core_web_sm\n",
        "# !python -m spacy download de_core_news_sm"
      ],
      "metadata": {
        "collapsed": true,
        "id": "JkEhOy8Pb0qi"
      },
      "execution_count": 1495,
      "outputs": []
    },
    {
      "cell_type": "code",
      "execution_count": 1496,
      "metadata": {
        "id": "Kc-yzoDVVlZC"
      },
      "outputs": [],
      "source": [
        "# Place-holders\n",
        "token_transform = {}\n",
        "vocab_transform = {}\n",
        "SRC_LANGUAGE = 'en'\n",
        "TRG_LANGUAGE = 'my'"
      ]
    },
    {
      "cell_type": "code",
      "source": [
        "def my_tokenizer(text):\n",
        "  return pyidaungsu.tokenize(text, form='word')"
      ],
      "metadata": {
        "id": "KMbboChFa9GF"
      },
      "execution_count": 1497,
      "outputs": []
    },
    {
      "cell_type": "code",
      "execution_count": 1498,
      "metadata": {
        "colab": {
          "base_uri": "https://localhost:8080/"
        },
        "id": "In2raKhWVlZC",
        "outputId": "11cf3df6-7a3a-4dae-a143-dda866fd6735"
      },
      "outputs": [
        {
          "output_type": "stream",
          "name": "stderr",
          "text": [
            "/usr/local/lib/python3.11/dist-packages/spacy/util.py:1740: UserWarning: [W111] Jupyter notebook detected: if using `prefer_gpu()` or `require_gpu()`, include it in the same cell right before `spacy.load()` to ensure that the model is loaded on the correct device. More information: http://spacy.io/usage/v3#jupyter-notebook-gpu\n",
            "  warnings.warn(Warnings.W111)\n"
          ]
        }
      ],
      "source": [
        "from torchtext.data.utils import get_tokenizer\n",
        "token_transform[SRC_LANGUAGE] = get_tokenizer('spacy', language='en_core_web_sm')\n",
        "# token_transform[TRG_LANGUAGE] = lambda text: pyidaungsu.tokenize(text, lang='mm', form='syllable')\n",
        "token_transform[TRG_LANGUAGE] = my_tokenizer"
      ]
    },
    {
      "cell_type": "code",
      "source": [
        "sample"
      ],
      "metadata": {
        "colab": {
          "base_uri": "https://localhost:8080/"
        },
        "id": "Mx97Q3TEbKQv",
        "outputId": "1ba27563-11d1-43d0-ec44-b8eb17ecaf0b"
      },
      "execution_count": 1499,
      "outputs": [
        {
          "output_type": "execute_result",
          "data": {
            "text/plain": [
              "('Human evolution is the evolutionary process within the history of primates that led to the emergence of Homo sapiens as a distinct species of the hominid family, which includes all the great apes',\n",
              " 'ဇီဝဗေဒ ပညာတွင် ဆင့်ကဲပြောင်းလဲမှုဖြစ်စဉ် သို့မဟုတ် အီဗော်လူးရှင်း ဆိုသည်မှာ သက်ရှိအစုအဝေးများတွင် တွေ့ရသော မျိုးရိုးလိုက်သည့် လက္ခဏာရပ်များ အချိန်နှင့် အမျှ ပြောင်းလဲသွားခြင်းကို ခေါ်ဆိုခြင်း ဖြစ်သည်')"
            ]
          },
          "metadata": {},
          "execution_count": 1499
        }
      ]
    },
    {
      "cell_type": "code",
      "execution_count": 1500,
      "metadata": {
        "colab": {
          "base_uri": "https://localhost:8080/"
        },
        "id": "ZDWy-On8VlZC",
        "outputId": "73d0f262-cf22-4705-f809-4494496a4273"
      },
      "outputs": [
        {
          "output_type": "stream",
          "name": "stdout",
          "text": [
            "Sentence:  ဇီဝဗေဒ ပညာတွင် ဆင့်ကဲပြောင်းလဲမှုဖြစ်စဉ် သို့မဟုတ် အီဗော်လူးရှင်း ဆိုသည်မှာ သက်ရှိအစုအဝေးများတွင် တွေ့ရသော မျိုးရိုးလိုက်သည့် လက္ခဏာရပ်များ အချိန်နှင့် အမျှ ပြောင်းလဲသွားခြင်းကို ခေါ်ဆိုခြင်း ဖြစ်သည်\n",
            "Tokenization:  ['ဇီဝဗေဒ', 'ပညာတွင်', 'ဆင့်ကဲပြောင်းလဲမှုဖြစ်စဉ်', 'သို့မဟုတ်', 'အီဗော်လူးရှင်း', 'ဆိုသည်မှာ', 'သက်ရှိအစုအဝေးများတွင်', 'တွေ့ရသော', 'မျိုးရိုးလိုက်သည့်', 'လက္ခဏာရပ်များ', 'အချိန်နှင့်', 'အမျှ', 'ပြောင်းလဲသွားခြင်းကို', 'ခေါ်ဆိုခြင်း', 'ဖြစ်သည်']\n"
          ]
        }
      ],
      "source": [
        "#example of tokenization of the english part\n",
        "print(\"Sentence: \", sample[1])\n",
        "print(\"Tokenization: \", token_transform[SRC_LANGUAGE](sample[1]))"
      ]
    },
    {
      "cell_type": "markdown",
      "metadata": {
        "id": "MsgLYX8tVlZC"
      },
      "source": [
        "A function to tokenize our input."
      ]
    },
    {
      "cell_type": "code",
      "execution_count": 1501,
      "metadata": {
        "id": "IzFfMdh8VlZD"
      },
      "outputs": [],
      "source": [
        "# helper function to yield list of tokens\n",
        "# here data can be `train` or `val` or `test`\n",
        "def yield_tokens(data, language):\n",
        "    language_index = {SRC_LANGUAGE: 0, TRG_LANGUAGE: 1}\n",
        "\n",
        "    for data_sample in data:\n",
        "        yield token_transform[language](data_sample[language_index[language]]) #either first or second index"
      ]
    },
    {
      "cell_type": "markdown",
      "metadata": {
        "id": "gIDOZlceVlZD"
      },
      "source": [
        "Before we tokenize, let's define some special symbols so our neural network understand the embeddings of these symbols, namely the unknown, the padding, the start of sentence, and end of sentence."
      ]
    },
    {
      "cell_type": "code",
      "execution_count": 1502,
      "metadata": {
        "id": "NeLABmAIVlZD"
      },
      "outputs": [],
      "source": [
        "# Define special symbols and indices\n",
        "UNK_IDX, PAD_IDX, SOS_IDX, EOS_IDX = 0, 1, 2, 3\n",
        "# Make sure the tokens are in order of their indices to properly insert them in vocab\n",
        "special_symbols = ['<unk>', '<pad>', '<sos>', '<eos>']"
      ]
    },
    {
      "cell_type": "markdown",
      "metadata": {
        "tags": [],
        "id": "5tC-WYHAVlZD"
      },
      "source": [
        "### Text to integers (Numericalization)\n",
        "\n",
        "Next we gonna create function (torchtext called vocabs) that turn these tokens into integers.  Here we use built in factory function <code>build_vocab_from_iterator</code> which accepts iterator that yield list or iterator of tokens."
      ]
    },
    {
      "cell_type": "code",
      "execution_count": 1503,
      "metadata": {
        "id": "60b8y97ZVlZD"
      },
      "outputs": [],
      "source": [
        "from torchtext.vocab import build_vocab_from_iterator\n",
        "\n",
        "for ln in [SRC_LANGUAGE, TRG_LANGUAGE]:\n",
        "    # Create torchtext's Vocab object\n",
        "    vocab_transform[ln] = build_vocab_from_iterator(yield_tokens(train, ln),\n",
        "                                                    min_freq=2,   #if not, everything will be treated as UNK\n",
        "                                                    specials=special_symbols,\n",
        "                                                    special_first=True) #indicates whether to insert symbols at the beginning or at the end\n",
        "# Set UNK_IDX as the default index. This index is returned when the token is not found.\n",
        "# If not set, it throws RuntimeError when the queried token is not found in the Vocabulary.\n",
        "for ln in [SRC_LANGUAGE, TRG_LANGUAGE]:\n",
        "    vocab_transform[ln].set_default_index(UNK_IDX)"
      ]
    },
    {
      "cell_type": "code",
      "execution_count": 1504,
      "metadata": {
        "colab": {
          "base_uri": "https://localhost:8080/"
        },
        "id": "TmPfoUoEVlZE",
        "outputId": "a1091703-f844-4a24-aecf-1a3e6b829a26"
      },
      "outputs": [
        {
          "output_type": "execute_result",
          "data": {
            "text/plain": [
              "[0, 40, 10, 0, 10]"
            ]
          },
          "metadata": {},
          "execution_count": 1504
        }
      ],
      "source": [
        "#see some example\n",
        "vocab_transform[SRC_LANGUAGE](['here', 'is', 'a', 'unknownword', 'a'])"
      ]
    },
    {
      "cell_type": "code",
      "execution_count": 1505,
      "metadata": {
        "colab": {
          "base_uri": "https://localhost:8080/",
          "height": 36
        },
        "id": "oyIv06bnVlZE",
        "outputId": "15475464-13da-4c0a-c72c-6e14cca0ce90"
      },
      "outputs": [
        {
          "output_type": "execute_result",
          "data": {
            "text/plain": [
              "'welfare'"
            ],
            "application/vnd.google.colaboratory.intrinsic+json": {
              "type": "string"
            }
          },
          "metadata": {},
          "execution_count": 1505
        }
      ],
      "source": [
        "#we can reverse it....\n",
        "mapping = vocab_transform[SRC_LANGUAGE].get_itos()\n",
        "\n",
        "#print 1816, for example\n",
        "mapping[1891]"
      ]
    },
    {
      "cell_type": "code",
      "execution_count": 1506,
      "metadata": {
        "colab": {
          "base_uri": "https://localhost:8080/",
          "height": 36
        },
        "id": "BviRdYLaVlZE",
        "outputId": "906b43e7-5293-45e6-9f63-c70ee33548b7"
      },
      "outputs": [
        {
          "output_type": "execute_result",
          "data": {
            "text/plain": [
              "'<unk>'"
            ],
            "application/vnd.google.colaboratory.intrinsic+json": {
              "type": "string"
            }
          },
          "metadata": {},
          "execution_count": 1506
        }
      ],
      "source": [
        "#let's try unknown vocab\n",
        "mapping[0]\n",
        "#they will all map to <unk> which has 0 as integer"
      ]
    },
    {
      "cell_type": "code",
      "execution_count": 1507,
      "metadata": {
        "colab": {
          "base_uri": "https://localhost:8080/"
        },
        "id": "Q6wDpXG-VlZE",
        "outputId": "359d1ccf-7633-4ce2-cfbe-40923a404997"
      },
      "outputs": [
        {
          "output_type": "execute_result",
          "data": {
            "text/plain": [
              "('<pad>', '<sos>', '<eos>')"
            ]
          },
          "metadata": {},
          "execution_count": 1507
        }
      ],
      "source": [
        "#let's try special symbols\n",
        "mapping[1], mapping[2], mapping[3]"
      ]
    },
    {
      "cell_type": "code",
      "execution_count": 1508,
      "metadata": {
        "colab": {
          "base_uri": "https://localhost:8080/"
        },
        "id": "h5e3Rj7dVlZE",
        "outputId": "5a0d4c9e-a650-4145-f682-6179a1c21ef6"
      },
      "outputs": [
        {
          "output_type": "execute_result",
          "data": {
            "text/plain": [
              "9309"
            ]
          },
          "metadata": {},
          "execution_count": 1508
        }
      ],
      "source": [
        "#check unique vocabularies\n",
        "len(mapping)"
      ]
    },
    {
      "cell_type": "markdown",
      "metadata": {
        "tags": [],
        "id": "BGZYzhwGVlZF"
      },
      "source": [
        "## 4. Preparing the dataloader\n",
        "\n",
        "One thing we change here is the <code>collate_fn</code> which now also returns the length of sentence.  This is required for <code>packed_padded_sequence</code>"
      ]
    },
    {
      "cell_type": "code",
      "execution_count": 1509,
      "metadata": {
        "id": "6YYXxzueVlZF"
      },
      "outputs": [],
      "source": [
        "from torch.nn.utils.rnn import pad_sequence\n",
        "from torch.utils.data import DataLoader\n",
        "\n",
        "BATCH_SIZE = 16 # due to gpu memory limitation\n",
        "\n",
        "# helper function to club together sequential operations\n",
        "def sequential_transforms(*transforms):\n",
        "    def func(txt_input):\n",
        "        for transform in transforms:\n",
        "            txt_input = transform(txt_input)\n",
        "        return txt_input\n",
        "    return func\n",
        "\n",
        "# function to add BOS/EOS and create tensor for input sequence indices\n",
        "def tensor_transform(token_ids):\n",
        "    return torch.cat((torch.tensor([SOS_IDX]),\n",
        "                      torch.tensor(token_ids),\n",
        "                      torch.tensor([EOS_IDX])))\n",
        "\n",
        "# src and trg language text transforms to convert raw strings into tensors indices\n",
        "text_transform = {}\n",
        "for ln in [SRC_LANGUAGE, TRG_LANGUAGE]:\n",
        "    text_transform[ln] = sequential_transforms(token_transform[ln], #Tokenization\n",
        "                                               vocab_transform[ln], #Numericalization\n",
        "                                               tensor_transform) # Add BOS/EOS and create tensor\n",
        "\n",
        "\n",
        "# function to collate data samples into batch tesors\n",
        "def collate_batch(batch):\n",
        "    src_batch, src_len_batch, trg_batch = [], [], []\n",
        "    for src_sample, trg_sample in batch:\n",
        "        processed_text = text_transform[SRC_LANGUAGE](src_sample.rstrip(\"\\n\"))\n",
        "        src_batch.append(processed_text)\n",
        "        trg_batch.append(text_transform[TRG_LANGUAGE](trg_sample.rstrip(\"\\n\")))\n",
        "        src_len_batch.append(processed_text.size(0))\n",
        "\n",
        "    src_batch = pad_sequence(src_batch, padding_value=PAD_IDX, batch_first = True) #<----need this because we use linear layers mostly\n",
        "    trg_batch = pad_sequence(trg_batch, padding_value=PAD_IDX, batch_first = True)\n",
        "    return src_batch, torch.tensor(src_len_batch, dtype=torch.int64), trg_batch"
      ]
    },
    {
      "cell_type": "markdown",
      "metadata": {
        "id": "xwhJtB-FVlZF"
      },
      "source": [
        "Create train, val, and test dataloaders"
      ]
    },
    {
      "cell_type": "code",
      "execution_count": 1510,
      "metadata": {
        "id": "f7xlk_vHVlZF"
      },
      "outputs": [],
      "source": [
        "batch_size = 16\n",
        "\n",
        "train_loader = DataLoader(train, batch_size=batch_size, shuffle=True, collate_fn=collate_batch)\n",
        "valid_loader = DataLoader(val,   batch_size=batch_size, shuffle=False, collate_fn=collate_batch)\n",
        "test_loader  = DataLoader(test,  batch_size=batch_size, shuffle=False, collate_fn=collate_batch)"
      ]
    },
    {
      "cell_type": "code",
      "source": [
        "# print(\"Dataset size:\", len(train))\n",
        "# print(\"First sample:\", train[0])\n",
        "# print(\"Second sample:\", train[1])  # Should be different"
      ],
      "metadata": {
        "id": "xicFyszK_2bw"
      },
      "execution_count": 1511,
      "outputs": []
    },
    {
      "cell_type": "markdown",
      "metadata": {
        "id": "Dfo9oEoaVlZG"
      },
      "source": [
        "Let's test the train loader."
      ]
    },
    {
      "cell_type": "code",
      "source": [
        "# for src, src_len, trg in train_loader:\n",
        "#   print(\"Source:\", src)\n",
        "#   print(\"Source Lengths:\", src_len)\n",
        "#   print(\"Target:\", trg)\n",
        "#   break # Break after the first batch\n"
      ],
      "metadata": {
        "id": "3J5ltN8f_M-r"
      },
      "execution_count": 1512,
      "outputs": []
    },
    {
      "cell_type": "code",
      "source": [
        "# for i, (src, src_len, trg) in enumerate(train_loader):\n",
        "#     print(f\"Sample {i}: Source: {src[0]}, Target: {trg[0]}\")\n",
        "#     if i == 5:  # Stop after 5 samples\n",
        "#         break"
      ],
      "metadata": {
        "id": "3qBWudmU_mIl"
      },
      "execution_count": 1513,
      "outputs": []
    },
    {
      "cell_type": "code",
      "execution_count": 1514,
      "metadata": {
        "id": "GcJ043SPVlZG"
      },
      "outputs": [],
      "source": [
        "for en, _, my in train_loader:\n",
        "    break"
      ]
    },
    {
      "cell_type": "code",
      "execution_count": 1515,
      "metadata": {
        "colab": {
          "base_uri": "https://localhost:8080/"
        },
        "id": "lozckpT8VlZG",
        "outputId": "300de02c-595a-4e38-e296-35e11ad7b016"
      },
      "outputs": [
        {
          "output_type": "stream",
          "name": "stdout",
          "text": [
            "English shape:  torch.Size([16, 45])\n",
            "Burmese shape:  torch.Size([16, 65])\n"
          ]
        }
      ],
      "source": [
        "print(\"English shape: \", en.shape)  # (batch_size, seq len)\n",
        "print(\"Burmese shape: \", my.shape)   # (batch_size, seq len)"
      ]
    },
    {
      "cell_type": "markdown",
      "metadata": {
        "id": "tkQiPtzvVlZG"
      },
      "source": [
        "## 5. Design the model\n",
        "\n",
        "<img src=\"../figures/transformer-encoder.png\" >"
      ]
    },
    {
      "cell_type": "markdown",
      "metadata": {
        "id": "HdQpWXh8VlZS"
      },
      "source": [
        "### Encoder Layer"
      ]
    },
    {
      "cell_type": "code",
      "execution_count": 1516,
      "metadata": {
        "id": "-vkGrgdkVlZS"
      },
      "outputs": [],
      "source": [
        "class EncoderLayer(nn.Module):\n",
        "    def __init__(self, hid_dim, n_heads, pf_dim, dropout, device):\n",
        "        super().__init__()\n",
        "        self.self_attn_layer_norm = nn.LayerNorm(hid_dim)\n",
        "        self.ff_layer_norm        = nn.LayerNorm(hid_dim)\n",
        "        self.self_attention       = MultiHeadAttentionLayer(hid_dim, n_heads, dropout, device)\n",
        "        self.feedforward          = PositionwiseFeedforwardLayer(hid_dim, pf_dim, dropout)\n",
        "        self.dropout              = nn.Dropout(dropout)\n",
        "\n",
        "    def forward(self, src, src_mask):\n",
        "        #src = [batch size, src len, hid dim]\n",
        "        #src_mask = [batch size, 1, 1, src len]   #if the token is padding, it will be 1, otherwise 0\n",
        "        _src, _ = self.self_attention(src, src, src, src_mask)\n",
        "        src     = self.self_attn_layer_norm(src + self.dropout(_src))\n",
        "        #src: [batch_size, src len, hid dim]\n",
        "\n",
        "        _src    = self.feedforward(src)\n",
        "        src     = self.ff_layer_norm(src + self.dropout(_src))\n",
        "        #src: [batch_size, src len, hid dim]\n",
        "\n",
        "        return src"
      ]
    },
    {
      "cell_type": "markdown",
      "metadata": {
        "id": "UnPD7XGDVlZT"
      },
      "source": [
        "### Encoder"
      ]
    },
    {
      "cell_type": "code",
      "execution_count": 1517,
      "metadata": {
        "id": "EY0j7X9_VlZT"
      },
      "outputs": [],
      "source": [
        "class Encoder(nn.Module):\n",
        "    def __init__(self, input_dim, hid_dim, n_layers, n_heads, pf_dim, dropout, device, max_length = 700):\n",
        "        super().__init__()\n",
        "        self.device = device\n",
        "        self.tok_embedding = nn.Embedding(input_dim, hid_dim)\n",
        "        self.pos_embedding = nn.Embedding(max_length, hid_dim)\n",
        "        self.layers        = nn.ModuleList([EncoderLayer(hid_dim, n_heads, pf_dim, dropout, device)\n",
        "                                           for _ in range(n_layers)])\n",
        "        self.dropout       = nn.Dropout(dropout)\n",
        "        self.scale         = torch.sqrt(torch.FloatTensor([hid_dim])).to(self.device)\n",
        "\n",
        "    def forward(self, src, src_mask):\n",
        "\n",
        "        #src = [batch size, src len]\n",
        "        #src_mask = [batch size, 1, 1, src len]\n",
        "\n",
        "        batch_size = src.shape[0]\n",
        "        src_len    = src.shape[1]\n",
        "\n",
        "        pos        = torch.arange(0, src_len).unsqueeze(0).repeat(batch_size, 1).to(self.device)\n",
        "        #pos: [batch_size, src_len]\n",
        "\n",
        "        src        = self.dropout((self.tok_embedding(src) * self.scale) + self.pos_embedding(pos))\n",
        "        #src: [batch_size, src_len, hid_dim]\n",
        "\n",
        "        for layer in self.layers:\n",
        "            src = layer(src, src_mask)\n",
        "        #src: [batch_size, src_len, hid_dim]\n",
        "\n",
        "        return src\n"
      ]
    },
    {
      "cell_type": "markdown",
      "metadata": {
        "id": "2zvVB-FHVlZU"
      },
      "source": [
        "### Mutli Head Attention Layer\n",
        "\n",
        "<img src = \"../figures/transformer-attention.png\" width=\"700\">\n",
        "\n",
        "$$ \\text{Attention}(Q, K, V) = \\text{Softmax} \\big( \\frac{QK^T}{\\sqrt{d_k}} \\big)V $$"
      ]
    },
    {
      "cell_type": "code",
      "execution_count": 1518,
      "metadata": {
        "id": "shPRBXQIVlZU"
      },
      "outputs": [],
      "source": [
        "class MultiHeadAttentionLayer(nn.Module):\n",
        "    def __init__(self, hid_dim, n_heads, dropout, device):\n",
        "        super().__init__()\n",
        "        assert hid_dim % n_heads == 0\n",
        "        self.hid_dim  = hid_dim\n",
        "        self.n_heads  = n_heads\n",
        "        self.head_dim = hid_dim // n_heads\n",
        "\n",
        "        self.fc_q     = nn.Linear(hid_dim, hid_dim)\n",
        "        self.fc_k     = nn.Linear(hid_dim, hid_dim)\n",
        "        self.fc_v     = nn.Linear(hid_dim, hid_dim)\n",
        "\n",
        "         # Linear layers for additive attention\n",
        "        self.W1 = nn.Linear(self.head_dim, self.head_dim)  # W1 for Q\n",
        "        self.W2 = nn.Linear(self.head_dim, self.head_dim)  # W2 for K\n",
        "        self.vt = nn.Linear(self.head_dim, 1)  # v^T for additive attention\n",
        "\n",
        "        self.fc_o     = nn.Linear(hid_dim, hid_dim)\n",
        "\n",
        "        self.dropout  = nn.Dropout(dropout)\n",
        "\n",
        "        self.scale    = torch.sqrt(torch.FloatTensor([self.head_dim])).to(device)\n",
        "\n",
        "    def forward(self, query, key, value, mask = None):\n",
        "        #src, src, src, src_mask\n",
        "        #query = [batch size, query len, hid dim]\n",
        "        #key = [batch size, key len, hid dim]\n",
        "        #value = [batch size, value len, hid dim]\n",
        "\n",
        "        batch_size = query.shape[0]\n",
        "\n",
        "        Q = self.fc_q(query)\n",
        "        K = self.fc_k(key)\n",
        "        V = self.fc_v(value)\n",
        "        #Q=K=V: [batch_size, src len, hid_dim]\n",
        "\n",
        "        Q = Q.view(batch_size, -1, self.n_heads, self.head_dim).permute(0, 2, 1, 3)\n",
        "        K = K.view(batch_size, -1, self.n_heads, self.head_dim).permute(0, 2, 1, 3)\n",
        "        V = V.view(batch_size, -1, self.n_heads, self.head_dim).permute(0, 2, 1, 3)\n",
        "        #Q = [batch_size, n heads, query len, head_dim]\n",
        "\n",
        "        # Additive attention computation\n",
        "        # Add extra dimensions for broadcasting\n",
        "        Q_expanded = Q.unsqueeze(3)  # [batch_size, n_heads, query_len, 1, head_dim]\n",
        "        K_expanded = K.unsqueeze(2)  # [batch_size, n_heads, 1, key_len, head_dim]\n",
        "\n",
        "        # Compute W1(Q) + W2(K)\n",
        "        W1Q = self.W1(Q_expanded)  # [batch_size, n_heads, query_len, 1, head_dim]\n",
        "        W2K = self.W2(K_expanded)  # [batch_size, n_heads, 1, key_len, head_dim]\n",
        "        energy = torch.tanh(W1Q + W2K)  # [batch_size, n_heads, query_len, key_len, head_dim]\n",
        "\n",
        "        # Compute v^T * tanh(W1(Q) + W2(K))\n",
        "        energy = self.vt(energy).squeeze(-1)  # [batch_size, n_heads, query_len, key_len]\n",
        "        #Q = [batch_size, n heads, query len, head_dim] @ K = [batch_size, n heads, head_dim, key len]\n",
        "        #energy = [batch_size, n heads, query len, key len]\n",
        "\n",
        "        #for making attention to padding to 0\n",
        "        if mask is not None:\n",
        "            energy = energy.masked_fill(mask == 0, -1e10)\n",
        "\n",
        "        attention = torch.softmax(energy, dim = -1)\n",
        "        #attention = [batch_size, n heads, query len, key len]\n",
        "\n",
        "        x = torch.matmul(self.dropout(attention), V)\n",
        "        #[batch_size, n heads, query len, key len] @ [batch_size, n heads, value len, head_dim]\n",
        "        #x = [batch_size, n heads, query len, head dim]\n",
        "\n",
        "        x = x.permute(0, 2, 1, 3).contiguous()  #we can perform .view\n",
        "        #x = [batch_size, query len, n heads, head dim]\n",
        "\n",
        "        x = x.view(batch_size, -1, self.hid_dim)\n",
        "        #x = [batch_size, query len, hid dim]\n",
        "\n",
        "        x = self.fc_o(x)\n",
        "        #x = [batch_size, query len, hid dim]\n",
        "\n",
        "        return x, attention"
      ]
    },
    {
      "cell_type": "markdown",
      "metadata": {
        "id": "4zlovnW-VlZV"
      },
      "source": [
        "### Position-wise Feedforward Layer"
      ]
    },
    {
      "cell_type": "code",
      "execution_count": 1519,
      "metadata": {
        "id": "zm648WUgVlZV"
      },
      "outputs": [],
      "source": [
        "class PositionwiseFeedforwardLayer(nn.Module):\n",
        "    def __init__(self, hid_dim, pf_dim, dropout):\n",
        "        super().__init__()\n",
        "        self.fc1 = nn.Linear(hid_dim, pf_dim)\n",
        "        self.fc2 = nn.Linear(pf_dim, hid_dim)\n",
        "        self.dropout = nn.Dropout(dropout)\n",
        "\n",
        "    def forward(self, x):\n",
        "        #x = [batch size, src len, hid dim]\n",
        "        x = self.dropout(torch.relu(self.fc1(x)))\n",
        "        x = self.fc2(x)\n",
        "\n",
        "        return x"
      ]
    },
    {
      "cell_type": "markdown",
      "metadata": {
        "tags": [],
        "id": "6U_gMgEmVlZV"
      },
      "source": [
        "### Decoder Layer\n",
        "\n",
        "<img src = \"../figures/transformer-decoder.png\" >"
      ]
    },
    {
      "cell_type": "code",
      "execution_count": 1520,
      "metadata": {
        "id": "lntoKe3HVlZW"
      },
      "outputs": [],
      "source": [
        "class DecoderLayer(nn.Module):\n",
        "    def __init__(self, hid_dim, n_heads, pf_dim, dropout, device):\n",
        "        super().__init__()\n",
        "        self.self_attn_layer_norm = nn.LayerNorm(hid_dim)\n",
        "        self.enc_attn_layer_norm  = nn.LayerNorm(hid_dim)\n",
        "        self.ff_layer_norm        = nn.LayerNorm(hid_dim)\n",
        "        self.self_attention       = MultiHeadAttentionLayer(hid_dim, n_heads, dropout, device)\n",
        "        self.encoder_attention    = MultiHeadAttentionLayer(hid_dim, n_heads, dropout, device)\n",
        "        self.feedforward          = PositionwiseFeedforwardLayer(hid_dim, pf_dim, dropout)\n",
        "        self.dropout              = nn.Dropout(dropout)\n",
        "\n",
        "    def forward(self, trg, enc_src, trg_mask, src_mask):\n",
        "\n",
        "        #trg = [batch size, trg len, hid dim]\n",
        "        #enc_src = [batch size, src len, hid dim]\n",
        "        #trg_mask = [batch size, 1, trg len, trg len]\n",
        "        #src_mask = [batch size, 1, 1, src len]\n",
        "\n",
        "        _trg, _ = self.self_attention(trg, trg, trg, trg_mask)\n",
        "        trg     = self.self_attn_layer_norm(trg + self.dropout(_trg))\n",
        "        #trg = [batch_size, trg len, hid dim]\n",
        "\n",
        "        _trg, attention = self.encoder_attention(trg, enc_src, enc_src, src_mask)\n",
        "        trg             = self.enc_attn_layer_norm(trg + self.dropout(_trg))\n",
        "        #trg = [batch_size, trg len, hid dim]\n",
        "        #attention = [batch_size, n heads, trg len, src len]\n",
        "\n",
        "        _trg = self.feedforward(trg)\n",
        "        trg  = self.ff_layer_norm(trg + self.dropout(_trg))\n",
        "        #trg = [batch_size, trg len, hid dim]\n",
        "\n",
        "        return trg, attention"
      ]
    },
    {
      "cell_type": "markdown",
      "metadata": {
        "id": "Ic3sUz1zVlZW"
      },
      "source": [
        "### Decoder"
      ]
    },
    {
      "cell_type": "code",
      "execution_count": 1521,
      "metadata": {
        "id": "GMIL-xFYVlZW"
      },
      "outputs": [],
      "source": [
        "class Decoder(nn.Module):\n",
        "    def __init__(self, output_dim, hid_dim, n_layers, n_heads,\n",
        "                 pf_dim, dropout, device,max_length = 700):\n",
        "        super().__init__()\n",
        "        self.device = device\n",
        "        self.tok_embedding = nn.Embedding(output_dim, hid_dim)\n",
        "        self.pos_embedding = nn.Embedding(max_length, hid_dim)\n",
        "        self.layers        = nn.ModuleList([DecoderLayer(hid_dim, n_heads, pf_dim, dropout, device)\n",
        "                                            for _ in range(n_layers)])\n",
        "        self.fc_out        = nn.Linear(hid_dim, output_dim)\n",
        "        self.dropout       = nn.Dropout(dropout)\n",
        "        self.scale         = torch.sqrt(torch.FloatTensor([hid_dim])).to(device)\n",
        "\n",
        "    def forward(self, trg, enc_src, trg_mask, src_mask):\n",
        "\n",
        "        #trg = [batch size, trg len]\n",
        "        #enc_src = [batch size, src len, hid dim]\n",
        "        #trg_mask = [batch size, 1, trg len, trg len]\n",
        "        #src_mask = [batch size, 1, 1, src len]\n",
        "\n",
        "        batch_size = trg.shape[0]\n",
        "        trg_len    = trg.shape[1]\n",
        "\n",
        "        pos = torch.arange(0, trg_len).unsqueeze(0).repeat(batch_size, 1).to(self.device)\n",
        "        #pos: [batch_size, trg len]\n",
        "\n",
        "        trg = self.dropout((self.tok_embedding(trg) * self.scale) + self.pos_embedding(pos))\n",
        "        #trg: [batch_size, trg len, hid dim]\n",
        "\n",
        "        for layer in self.layers:\n",
        "            trg, attention = layer(trg, enc_src, trg_mask, src_mask)\n",
        "\n",
        "        #trg: [batch_size, trg len, hid dim]\n",
        "        #attention: [batch_size, n heads, trg len, src len]\n",
        "\n",
        "        output = self.fc_out(trg)\n",
        "        #output = [batch_size, trg len, output_dim]\n",
        "\n",
        "        return output, attention"
      ]
    },
    {
      "cell_type": "markdown",
      "metadata": {
        "id": "OZkc3QgnVlZX"
      },
      "source": [
        "### Putting them together (become Seq2Seq!)\n",
        "\n",
        "Our `trg_sub_mask` will look something like this (for a target with 5 tokens):\n",
        "\n",
        "$$\\begin{matrix}\n",
        "1 & 0 & 0 & 0 & 0\\\\\n",
        "1 & 1 & 0 & 0 & 0\\\\\n",
        "1 & 1 & 1 & 0 & 0\\\\\n",
        "1 & 1 & 1 & 1 & 0\\\\\n",
        "1 & 1 & 1 & 1 & 1\\\\\n",
        "\\end{matrix}$$\n",
        "\n",
        "The \"subsequent\" mask is then logically anded with the padding mask, this combines the two masks ensuring both the subsequent tokens and the padding tokens cannot be attended to. For example if the last two tokens were `<pad>` tokens the mask would look like:\n",
        "\n",
        "$$\\begin{matrix}\n",
        "1 & 0 & 0 & 0 & 0\\\\\n",
        "1 & 1 & 0 & 0 & 0\\\\\n",
        "1 & 1 & 1 & 0 & 0\\\\\n",
        "1 & 1 & 1 & 0 & 0\\\\\n",
        "1 & 1 & 1 & 0 & 0\\\\\n",
        "\\end{matrix}$$"
      ]
    },
    {
      "cell_type": "code",
      "execution_count": 1522,
      "metadata": {
        "id": "kLqtd3VrVlZX"
      },
      "outputs": [],
      "source": [
        "class Seq2SeqTransformer(nn.Module):\n",
        "    def __init__(self, encoder, decoder, src_pad_idx, trg_pad_idx, device):\n",
        "        super().__init__()\n",
        "\n",
        "        self.encoder = encoder\n",
        "        self.decoder = decoder\n",
        "        self.src_pad_idx = src_pad_idx\n",
        "        self.trg_pad_idx = trg_pad_idx\n",
        "        self.device = device\n",
        "\n",
        "    def make_src_mask(self, src):\n",
        "\n",
        "        #src = [batch size, src len]\n",
        "\n",
        "        src_mask = (src != self.src_pad_idx).unsqueeze(1).unsqueeze(2)\n",
        "        #src_mask = [batch size, 1, 1, src len]\n",
        "\n",
        "        return src_mask\n",
        "\n",
        "    def make_trg_mask(self, trg):\n",
        "\n",
        "        #trg = [batch size, trg len]\n",
        "\n",
        "        trg_pad_mask = (trg != self.trg_pad_idx).unsqueeze(1).unsqueeze(2)\n",
        "        #trg_pad_mask = [batch size, 1, 1, trg len]\n",
        "\n",
        "        trg_len = trg.shape[1]\n",
        "\n",
        "        trg_sub_mask = torch.tril(torch.ones((trg_len, trg_len), device = self.device)).bool()\n",
        "        #trg_sub_mask = [trg len, trg len]\n",
        "\n",
        "        trg_mask = trg_pad_mask & trg_sub_mask\n",
        "        #trg_mask = [batch size, 1, trg len, trg len]\n",
        "\n",
        "        return trg_mask\n",
        "\n",
        "    def forward(self, src, trg):\n",
        "\n",
        "        #src = [batch size, src len]\n",
        "        #trg = [batch size, trg len]\n",
        "\n",
        "        src_mask = self.make_src_mask(src)\n",
        "        trg_mask = self.make_trg_mask(trg)\n",
        "\n",
        "        #src_mask = [batch size, 1, 1, src len]\n",
        "        #trg_mask = [batch size, 1, trg len, trg len]\n",
        "\n",
        "        enc_src = self.encoder(src, src_mask)\n",
        "        #enc_src = [batch size, src len, hid dim]\n",
        "\n",
        "        output, attention = self.decoder(trg, enc_src, trg_mask, src_mask)\n",
        "\n",
        "        #output = [batch size, trg len, output dim]\n",
        "        #attention = [batch size, n heads, trg len, src len]\n",
        "\n",
        "        return output, attention"
      ]
    },
    {
      "cell_type": "markdown",
      "metadata": {
        "tags": [],
        "id": "_yEP9eiQVlZY"
      },
      "source": [
        "## 6. Training"
      ]
    },
    {
      "cell_type": "code",
      "execution_count": 1523,
      "metadata": {
        "id": "WJeAYXZOVlZY"
      },
      "outputs": [],
      "source": [
        "def initialize_weights(m):\n",
        "    if hasattr(m, 'weight') and m.weight.dim() > 1:\n",
        "        nn.init.xavier_uniform_(m.weight.data)"
      ]
    },
    {
      "cell_type": "code",
      "execution_count": 1524,
      "metadata": {
        "id": "wvBF0QF_VlZY",
        "colab": {
          "base_uri": "https://localhost:8080/"
        },
        "outputId": "5aa0e9d6-db3b-461e-feab-db68c2e901ae"
      },
      "outputs": [
        {
          "output_type": "execute_result",
          "data": {
            "text/plain": [
              "Seq2SeqTransformer(\n",
              "  (encoder): Encoder(\n",
              "    (tok_embedding): Embedding(9309, 256)\n",
              "    (pos_embedding): Embedding(700, 256)\n",
              "    (layers): ModuleList(\n",
              "      (0-2): 3 x EncoderLayer(\n",
              "        (self_attn_layer_norm): LayerNorm((256,), eps=1e-05, elementwise_affine=True)\n",
              "        (ff_layer_norm): LayerNorm((256,), eps=1e-05, elementwise_affine=True)\n",
              "        (self_attention): MultiHeadAttentionLayer(\n",
              "          (fc_q): Linear(in_features=256, out_features=256, bias=True)\n",
              "          (fc_k): Linear(in_features=256, out_features=256, bias=True)\n",
              "          (fc_v): Linear(in_features=256, out_features=256, bias=True)\n",
              "          (W1): Linear(in_features=32, out_features=32, bias=True)\n",
              "          (W2): Linear(in_features=32, out_features=32, bias=True)\n",
              "          (vt): Linear(in_features=32, out_features=1, bias=True)\n",
              "          (fc_o): Linear(in_features=256, out_features=256, bias=True)\n",
              "          (dropout): Dropout(p=0.1, inplace=False)\n",
              "        )\n",
              "        (feedforward): PositionwiseFeedforwardLayer(\n",
              "          (fc1): Linear(in_features=256, out_features=512, bias=True)\n",
              "          (fc2): Linear(in_features=512, out_features=256, bias=True)\n",
              "          (dropout): Dropout(p=0.1, inplace=False)\n",
              "        )\n",
              "        (dropout): Dropout(p=0.1, inplace=False)\n",
              "      )\n",
              "    )\n",
              "    (dropout): Dropout(p=0.1, inplace=False)\n",
              "  )\n",
              "  (decoder): Decoder(\n",
              "    (tok_embedding): Embedding(5657, 256)\n",
              "    (pos_embedding): Embedding(700, 256)\n",
              "    (layers): ModuleList(\n",
              "      (0-2): 3 x DecoderLayer(\n",
              "        (self_attn_layer_norm): LayerNorm((256,), eps=1e-05, elementwise_affine=True)\n",
              "        (enc_attn_layer_norm): LayerNorm((256,), eps=1e-05, elementwise_affine=True)\n",
              "        (ff_layer_norm): LayerNorm((256,), eps=1e-05, elementwise_affine=True)\n",
              "        (self_attention): MultiHeadAttentionLayer(\n",
              "          (fc_q): Linear(in_features=256, out_features=256, bias=True)\n",
              "          (fc_k): Linear(in_features=256, out_features=256, bias=True)\n",
              "          (fc_v): Linear(in_features=256, out_features=256, bias=True)\n",
              "          (W1): Linear(in_features=32, out_features=32, bias=True)\n",
              "          (W2): Linear(in_features=32, out_features=32, bias=True)\n",
              "          (vt): Linear(in_features=32, out_features=1, bias=True)\n",
              "          (fc_o): Linear(in_features=256, out_features=256, bias=True)\n",
              "          (dropout): Dropout(p=0.1, inplace=False)\n",
              "        )\n",
              "        (encoder_attention): MultiHeadAttentionLayer(\n",
              "          (fc_q): Linear(in_features=256, out_features=256, bias=True)\n",
              "          (fc_k): Linear(in_features=256, out_features=256, bias=True)\n",
              "          (fc_v): Linear(in_features=256, out_features=256, bias=True)\n",
              "          (W1): Linear(in_features=32, out_features=32, bias=True)\n",
              "          (W2): Linear(in_features=32, out_features=32, bias=True)\n",
              "          (vt): Linear(in_features=32, out_features=1, bias=True)\n",
              "          (fc_o): Linear(in_features=256, out_features=256, bias=True)\n",
              "          (dropout): Dropout(p=0.1, inplace=False)\n",
              "        )\n",
              "        (feedforward): PositionwiseFeedforwardLayer(\n",
              "          (fc1): Linear(in_features=256, out_features=512, bias=True)\n",
              "          (fc2): Linear(in_features=512, out_features=256, bias=True)\n",
              "          (dropout): Dropout(p=0.1, inplace=False)\n",
              "        )\n",
              "        (dropout): Dropout(p=0.1, inplace=False)\n",
              "      )\n",
              "    )\n",
              "    (fc_out): Linear(in_features=256, out_features=5657, bias=True)\n",
              "    (dropout): Dropout(p=0.1, inplace=False)\n",
              "  )\n",
              ")"
            ]
          },
          "metadata": {},
          "execution_count": 1524
        }
      ],
      "source": [
        "INPUT_DIM = len(vocab_transform[SRC_LANGUAGE])\n",
        "OUTPUT_DIM = len(vocab_transform[TRG_LANGUAGE])\n",
        "HID_DIM = 256\n",
        "ENC_LAYERS = 3\n",
        "DEC_LAYERS = 3\n",
        "ENC_HEADS = 8\n",
        "DEC_HEADS = 8\n",
        "ENC_PF_DIM = 512\n",
        "DEC_PF_DIM = 512\n",
        "ENC_DROPOUT = 0.1\n",
        "DEC_DROPOUT = 0.1\n",
        "\n",
        "enc = Encoder(INPUT_DIM,\n",
        "              HID_DIM,\n",
        "              ENC_LAYERS,\n",
        "              ENC_HEADS,\n",
        "              ENC_PF_DIM,\n",
        "              ENC_DROPOUT,\n",
        "              device)\n",
        "\n",
        "dec = Decoder(OUTPUT_DIM,\n",
        "              HID_DIM,\n",
        "              DEC_LAYERS,\n",
        "              DEC_HEADS,\n",
        "              DEC_PF_DIM,\n",
        "              DEC_DROPOUT,\n",
        "              device)\n",
        "\n",
        "SRC_PAD_IDX = PAD_IDX\n",
        "TRG_PAD_IDX = PAD_IDX\n",
        "\n",
        "model = Seq2SeqTransformer(enc, dec, SRC_PAD_IDX, TRG_PAD_IDX, device).to(device)\n",
        "model.apply(initialize_weights)"
      ]
    },
    {
      "cell_type": "code",
      "execution_count": 1525,
      "metadata": {
        "id": "f_l096oWVlZZ"
      },
      "outputs": [],
      "source": [
        "# input_dim   = len(vocab_transform[SRC_LANGUAGE])\n",
        "# output_dim  = len(vocab_transform[TRG_LANGUAGE])\n",
        "# hid_dim = 256\n",
        "# enc_layers = 3\n",
        "# dec_layers = 3\n",
        "# enc_heads = 8\n",
        "# dec_heads = 8\n",
        "# enc_pf_dim = 512\n",
        "# dec_pf_dim = 512\n",
        "# enc_dropout = 0.1\n",
        "# dec_dropout = 0.1\n",
        "\n",
        "# SRC_PAD_IDX = PAD_IDX\n",
        "# TRG_PAD_IDX = PAD_IDX\n",
        "\n",
        "# enc = Encoder(input_dim,\n",
        "#               hid_dim,\n",
        "#               enc_layers,\n",
        "#               enc_heads,\n",
        "#               enc_pf_dim,\n",
        "#               enc_dropout,\n",
        "#               device)\n",
        "\n",
        "# dec = Decoder(output_dim,\n",
        "#               hid_dim,\n",
        "#               dec_layers,\n",
        "#               dec_heads,\n",
        "#               dec_pf_dim,\n",
        "#               enc_dropout,\n",
        "#               device)\n",
        "\n",
        "# model = Seq2SeqTransformer(enc, dec, SRC_PAD_IDX, TRG_PAD_IDX, device).to(device)\n",
        "# model.apply(initialize_weights)"
      ]
    },
    {
      "cell_type": "code",
      "execution_count": 1526,
      "metadata": {
        "colab": {
          "base_uri": "https://localhost:8080/"
        },
        "id": "sLulasEQVlZZ",
        "outputId": "9e248724-0956-4573-ab5b-bde561c5cc1e"
      },
      "outputs": [
        {
          "output_type": "stream",
          "name": "stdout",
          "text": [
            "2383104\n",
            "179200\n",
            "   256\n",
            "   256\n",
            "   256\n",
            "   256\n",
            " 65536\n",
            "   256\n",
            " 65536\n",
            "   256\n",
            " 65536\n",
            "   256\n",
            "  1024\n",
            "    32\n",
            "  1024\n",
            "    32\n",
            "    32\n",
            "     1\n",
            " 65536\n",
            "   256\n",
            "131072\n",
            "   512\n",
            "131072\n",
            "   256\n",
            "   256\n",
            "   256\n",
            "   256\n",
            "   256\n",
            " 65536\n",
            "   256\n",
            " 65536\n",
            "   256\n",
            " 65536\n",
            "   256\n",
            "  1024\n",
            "    32\n",
            "  1024\n",
            "    32\n",
            "    32\n",
            "     1\n",
            " 65536\n",
            "   256\n",
            "131072\n",
            "   512\n",
            "131072\n",
            "   256\n",
            "   256\n",
            "   256\n",
            "   256\n",
            "   256\n",
            " 65536\n",
            "   256\n",
            " 65536\n",
            "   256\n",
            " 65536\n",
            "   256\n",
            "  1024\n",
            "    32\n",
            "  1024\n",
            "    32\n",
            "    32\n",
            "     1\n",
            " 65536\n",
            "   256\n",
            "131072\n",
            "   512\n",
            "131072\n",
            "   256\n",
            "1448192\n",
            "179200\n",
            "   256\n",
            "   256\n",
            "   256\n",
            "   256\n",
            "   256\n",
            "   256\n",
            " 65536\n",
            "   256\n",
            " 65536\n",
            "   256\n",
            " 65536\n",
            "   256\n",
            "  1024\n",
            "    32\n",
            "  1024\n",
            "    32\n",
            "    32\n",
            "     1\n",
            " 65536\n",
            "   256\n",
            " 65536\n",
            "   256\n",
            " 65536\n",
            "   256\n",
            " 65536\n",
            "   256\n",
            "  1024\n",
            "    32\n",
            "  1024\n",
            "    32\n",
            "    32\n",
            "     1\n",
            " 65536\n",
            "   256\n",
            "131072\n",
            "   512\n",
            "131072\n",
            "   256\n",
            "   256\n",
            "   256\n",
            "   256\n",
            "   256\n",
            "   256\n",
            "   256\n",
            " 65536\n",
            "   256\n",
            " 65536\n",
            "   256\n",
            " 65536\n",
            "   256\n",
            "  1024\n",
            "    32\n",
            "  1024\n",
            "    32\n",
            "    32\n",
            "     1\n",
            " 65536\n",
            "   256\n",
            " 65536\n",
            "   256\n",
            " 65536\n",
            "   256\n",
            " 65536\n",
            "   256\n",
            "  1024\n",
            "    32\n",
            "  1024\n",
            "    32\n",
            "    32\n",
            "     1\n",
            " 65536\n",
            "   256\n",
            "131072\n",
            "   512\n",
            "131072\n",
            "   256\n",
            "   256\n",
            "   256\n",
            "   256\n",
            "   256\n",
            "   256\n",
            "   256\n",
            " 65536\n",
            "   256\n",
            " 65536\n",
            "   256\n",
            " 65536\n",
            "   256\n",
            "  1024\n",
            "    32\n",
            "  1024\n",
            "    32\n",
            "    32\n",
            "     1\n",
            " 65536\n",
            "   256\n",
            " 65536\n",
            "   256\n",
            " 65536\n",
            "   256\n",
            " 65536\n",
            "   256\n",
            "  1024\n",
            "    32\n",
            "  1024\n",
            "    32\n",
            "    32\n",
            "     1\n",
            " 65536\n",
            "   256\n",
            "131072\n",
            "   512\n",
            "131072\n",
            "   256\n",
            "1448192\n",
            "  5657\n",
            "______\n",
            "9616514\n"
          ]
        }
      ],
      "source": [
        "#we can print the complexity by the number of parameters\n",
        "def count_parameters(model):\n",
        "    params = [p.numel() for p in model.parameters() if p.requires_grad]\n",
        "    for item in params:\n",
        "        print(f'{item:>6}')\n",
        "    print(f'______\\n{sum(params):>6}')\n",
        "\n",
        "count_parameters(model)"
      ]
    },
    {
      "cell_type": "code",
      "execution_count": 1527,
      "metadata": {
        "id": "CSCOz4DJVlZa"
      },
      "outputs": [],
      "source": [
        "import torch.optim as optim\n",
        "\n",
        "lr = 0.0005\n",
        "# lr = 0.001\n",
        "\n",
        "#training hyperparameters\n",
        "optimizer = optim.Adam(model.parameters(), lr=lr)\n",
        "criterion = nn.CrossEntropyLoss(ignore_index = TRG_PAD_IDX) #combine softmax with cross entropy\n",
        "# label_smoothing = 0.1"
      ]
    },
    {
      "cell_type": "markdown",
      "metadata": {
        "id": "ULw5H-YjVlZa"
      },
      "source": [
        "Then, we'll define our training loop. This is the exact same as the one used in the previous tutorial.\n",
        "\n",
        "As we want our model to predict the `<eos>` token but not have it be an input into our model we simply slice the `<eos>` token off the end of the sequence. Thus:\n",
        "\n",
        "$$\\begin{align*}\n",
        "\\text{trg} &= [sos, x_1, x_2, x_3, eos]\\\\\n",
        "\\text{trg[:-1]} &= [sos, x_1, x_2, x_3]\n",
        "\\end{align*}$$\n",
        "\n",
        "$x_i$ denotes actual target sequence element. We then feed this into the model to get a predicted sequence that should hopefully predict the `<eos>` token:\n",
        "\n",
        "$$\\begin{align*}\n",
        "\\text{output} &= [y_1, y_2, y_3, eos]\n",
        "\\end{align*}$$\n",
        "\n",
        "$y_i$ denotes predicted target sequence element. We then calculate our loss using the original `trg` tensor with the `<sos>` token sliced off the front, leaving the `<eos>` token:\n",
        "\n",
        "$$\\begin{align*}\n",
        "\\text{output} &= [y_1, y_2, y_3, eos]\\\\\n",
        "\\text{trg[1:]} &= [x_1, x_2, x_3, eos]\n",
        "\\end{align*}$$\n",
        "\n",
        "We then calculate our losses and update our parameters as is standard."
      ]
    },
    {
      "cell_type": "code",
      "execution_count": 1528,
      "metadata": {
        "id": "kmoup8hGVlZa"
      },
      "outputs": [],
      "source": [
        "def train(model, loader, optimizer, criterion, clip, loader_length):\n",
        "\n",
        "    model.train()\n",
        "\n",
        "    epoch_loss = 0\n",
        "\n",
        "    for src, src_len, trg in loader:\n",
        "\n",
        "        src = src.to(device)\n",
        "        trg = trg.to(device)\n",
        "\n",
        "        optimizer.zero_grad()\n",
        "\n",
        "        #trg[:, :-1] remove the eos, e.g., \"<sos> I love sushi\" since teaching forcing, the input does not need to have eos\n",
        "        output, _ = model(src, trg[:,:-1])\n",
        "\n",
        "        #output = [batch size, trg len - 1, output dim]\n",
        "        #trg    = [batch size, trg len]\n",
        "\n",
        "        output_dim = output.shape[-1]\n",
        "\n",
        "        output = output.reshape(-1, output_dim)\n",
        "        trg = trg[:,1:].reshape(-1) #trg[:, 1:] remove the sos, e.g., \"i love sushi <eos>\" since in teaching forcing, the output does not have sos\n",
        "\n",
        "        #output = [batch size * trg len - 1, output dim]\n",
        "        #trg    = [batch size * trg len - 1]\n",
        "\n",
        "        loss = criterion(output, trg)\n",
        "\n",
        "        loss.backward()\n",
        "\n",
        "        torch.nn.utils.clip_grad_norm_(model.parameters(), clip)\n",
        "\n",
        "        optimizer.step()\n",
        "        # scheduler.step()\n",
        "\n",
        "        epoch_loss += loss.item()\n",
        "\n",
        "    return epoch_loss / loader_length"
      ]
    },
    {
      "cell_type": "markdown",
      "metadata": {
        "id": "UXtJ93zNVlZa"
      },
      "source": [
        "Our evaluation loop is similar to our training loop, however as we aren't updating any parameters we don't need to pass an optimizer or a clip value."
      ]
    },
    {
      "cell_type": "code",
      "execution_count": 1529,
      "metadata": {
        "id": "rAu248G6VlZa"
      },
      "outputs": [],
      "source": [
        "def evaluate(model, loader, criterion, loader_length):\n",
        "\n",
        "    model.eval()\n",
        "\n",
        "    epoch_loss = 0\n",
        "\n",
        "    with torch.no_grad():\n",
        "\n",
        "        for src, src_len, trg in loader:\n",
        "\n",
        "            src = src.to(device)\n",
        "            trg = trg.to(device)\n",
        "\n",
        "            output, _ = model(src, trg[:,:-1])\n",
        "\n",
        "            #output = [batch size, trg len - 1, output dim]\n",
        "            #trg = [batch size, trg len]\n",
        "\n",
        "            output_dim = output.shape[-1]\n",
        "\n",
        "            output = output.contiguous().view(-1, output_dim)\n",
        "            trg = trg[:,1:].contiguous().view(-1)\n",
        "\n",
        "            #output = [batch size * trg len - 1, output dim]\n",
        "            #trg = [batch size * trg len - 1]\n",
        "\n",
        "            loss = criterion(output, trg)\n",
        "\n",
        "            epoch_loss += loss.item()\n",
        "\n",
        "    return epoch_loss / loader_length"
      ]
    },
    {
      "cell_type": "markdown",
      "metadata": {
        "id": "-pjuJZfMVlZb"
      },
      "source": [
        "### Putting everything together\n",
        "\n",
        "Finally, we train our actual model. This model is almost 3x faster than the convolutional sequence-to-sequence model and also achieves a lower validation perplexity!\n",
        "\n",
        "**Note: similar to CNN, this model always has a teacher forcing ratio of 1, i.e. it will always use the ground truth next token from the target sequence (this is simply because CNN do everything in parallel so we cannot have the next token). This means we cannot compare perplexity values against the previous models when they are using a teacher forcing ratio that is not 1. To understand this, try run previous tutorials with teaching forcing ratio of 1, you will get very low perplexity.  **   "
      ]
    },
    {
      "cell_type": "code",
      "execution_count": 1530,
      "metadata": {
        "id": "hHRY_A5kVlZb"
      },
      "outputs": [],
      "source": [
        "train_loader_length = len(list(iter(train_loader)))\n",
        "val_loader_length   = len(list(iter(valid_loader)))\n",
        "test_loader_length  = len(list(iter(test_loader)))"
      ]
    },
    {
      "cell_type": "code",
      "execution_count": 1531,
      "metadata": {
        "id": "aOCJw7-kVlZb"
      },
      "outputs": [],
      "source": [
        "def epoch_time(start_time, end_time):\n",
        "    elapsed_time = end_time - start_time\n",
        "    elapsed_mins = int(elapsed_time / 60)\n",
        "    elapsed_secs = int(elapsed_time - (elapsed_mins * 60))\n",
        "    return elapsed_mins, elapsed_secs"
      ]
    },
    {
      "cell_type": "code",
      "execution_count": 1532,
      "metadata": {
        "colab": {
          "base_uri": "https://localhost:8080/"
        },
        "id": "GR9sHMVfVlZb",
        "outputId": "4216759d-eeb7-4975-f2e3-75dbc6937c57"
      },
      "outputs": [
        {
          "metadata": {
            "tags": null
          },
          "name": "stdout",
          "output_type": "stream",
          "text": [
            "Epoch: 01 | Time: 0m 45s\n",
            "\tTrain Loss: 5.752 | Train PPL: 314.892\n",
            "\t Val. Loss: 4.864 |  Val. PPL: 129.534\n",
            "Epoch: 02 | Time: 0m 46s\n",
            "\tTrain Loss: 4.748 | Train PPL: 115.341\n",
            "\t Val. Loss: 4.482 |  Val. PPL:  88.392\n",
            "Epoch: 03 | Time: 0m 45s\n",
            "\tTrain Loss: 4.366 | Train PPL:  78.730\n",
            "\t Val. Loss: 4.333 |  Val. PPL:  76.182\n",
            "Epoch: 04 | Time: 0m 45s\n",
            "\tTrain Loss: 4.072 | Train PPL:  58.676\n",
            "\t Val. Loss: 4.263 |  Val. PPL:  71.049\n",
            "Epoch: 05 | Time: 0m 45s\n",
            "\tTrain Loss: 3.806 | Train PPL:  44.991\n",
            "\t Val. Loss: 4.266 |  Val. PPL:  71.260\n",
            "Epoch: 06 | Time: 0m 45s\n",
            "\tTrain Loss: 3.565 | Train PPL:  35.334\n",
            "\t Val. Loss: 4.312 |  Val. PPL:  74.576\n",
            "Epoch: 07 | Time: 0m 46s\n",
            "\tTrain Loss: 3.342 | Train PPL:  28.281\n",
            "\t Val. Loss: 4.389 |  Val. PPL:  80.540\n",
            "Epoch: 08 | Time: 0m 45s\n",
            "\tTrain Loss: 3.137 | Train PPL:  23.029\n",
            "\t Val. Loss: 4.490 |  Val. PPL:  89.123\n",
            "Epoch: 09 | Time: 0m 46s\n",
            "\tTrain Loss: 2.945 | Train PPL:  19.003\n",
            "\t Val. Loss: 4.612 |  Val. PPL: 100.710\n",
            "Epoch: 10 | Time: 0m 46s\n",
            "\tTrain Loss: 2.764 | Train PPL:  15.858\n",
            "\t Val. Loss: 4.737 |  Val. PPL: 114.100\n"
          ]
        }
      ],
      "source": [
        "best_valid_loss = float('inf')\n",
        "num_epochs = 10\n",
        "clip       = 1\n",
        "# early_stop_patience = 5  # Stop if no improvement after 5 epochs\n",
        "# counter = 0\n",
        "\n",
        "scheduler = torch.optim.lr_scheduler.OneCycleLR(optimizer, max_lr=0.005, total_steps=num_epochs*len(train_loader))\n",
        "\n",
        "save_path = f'models/{model.__class__.__name__}_additive.pt'\n",
        "\n",
        "train_losses = []\n",
        "valid_losses = []\n",
        "\n",
        "for epoch in range(num_epochs):\n",
        "\n",
        "    start_time = time.time()\n",
        "\n",
        "    train_loss = train(model, train_loader, optimizer, criterion, clip, train_loader_length)\n",
        "    valid_loss = evaluate(model, valid_loader, criterion, val_loader_length)\n",
        "\n",
        "    #for plotting\n",
        "    train_losses.append(train_loss)\n",
        "    valid_losses.append(valid_loss)\n",
        "\n",
        "    end_time = time.time()\n",
        "\n",
        "    epoch_mins, epoch_secs = epoch_time(start_time, end_time)\n",
        "\n",
        "\n",
        "    print(f'Epoch: {epoch+1:02} | Time: {epoch_mins}m {epoch_secs}s')\n",
        "    print(f'\\tTrain Loss: {train_loss:.3f} | Train PPL: {math.exp(train_loss):7.3f}')\n",
        "    print(f'\\t Val. Loss: {valid_loss:.3f} |  Val. PPL: {math.exp(valid_loss):7.3f}')\n",
        "\n",
        "    #lower perplexity is better\n",
        "\n",
        "    if valid_loss < best_valid_loss:\n",
        "        best_valid_loss = valid_loss\n",
        "        torch.save(model.state_dict(), save_path)\n",
        "    # else:\n",
        "    #     counter += 1\n",
        "    #     if counter >= early_stop_patience:\n",
        "    #         print(\"Early stopping triggered at epoch\", epoch + 1)\n",
        "    #         break  # Stop training if validation loss doesn't improve for 5 epochs"
      ]
    },
    {
      "cell_type": "code",
      "execution_count": 1533,
      "metadata": {
        "colab": {
          "base_uri": "https://localhost:8080/",
          "height": 329
        },
        "id": "ORHrcWFtVlZb",
        "outputId": "a985a84d-2499-44f1-d185-a70f08302a41"
      },
      "outputs": [
        {
          "data": {
            "text/plain": [
              "Text(0, 0.5, 'loss')"
            ]
          },
          "execution_count": 1533,
          "metadata": {},
          "output_type": "execute_result"
        },
        {
          "data": {
            "image/png": "[encoded data removed]",
            "text/plain": [
              "<Figure size 500x300 with 1 Axes>"
            ]
          },
          "metadata": {},
          "output_type": "display_data"
        }
      ],
      "source": [
        "import matplotlib.pyplot as plt\n",
        "fig = plt.figure(figsize=(5, 3))\n",
        "ax = fig.add_subplot(1, 1, 1)\n",
        "ax.plot(train_losses, label = 'train loss')\n",
        "ax.plot(valid_losses, label = 'valid loss')\n",
        "plt.legend()\n",
        "ax.set_xlabel('updates')\n",
        "ax.set_ylabel('loss')"
      ]
    },
    {
      "cell_type": "code",
      "execution_count": 1534,
      "metadata": {
        "colab": {
          "base_uri": "https://localhost:8080/"
        },
        "id": "Iu3iVhd7VlZc",
        "outputId": "7ef6e214-c009-4bad-f63d-8bb956b23251"
      },
      "outputs": [
        {
          "metadata": {
            "tags": null
          },
          "name": "stdout",
          "output_type": "stream",
          "text": [
            "| Test Loss: 4.268 | Test PPL:  71.372 |\n"
          ]
        }
      ],
      "source": [
        "model.load_state_dict(torch.load(save_path))\n",
        "test_loss = evaluate(model, test_loader, criterion, test_loader_length)\n",
        "\n",
        "print(f'| Test Loss: {test_loss:.3f} | Test PPL: {math.exp(test_loss):7.3f} |')"
      ]
    },
    {
      "cell_type": "markdown",
      "metadata": {
        "id": "iv0TOONVVlZc"
      },
      "source": [
        "## 7. Test on some random news"
      ]
    },
    {
      "cell_type": "code",
      "execution_count": 1535,
      "metadata": {
        "colab": {
          "base_uri": "https://localhost:8080/",
          "height": 55
        },
        "id": "yYNbdnVgVlZd",
        "outputId": "69e02de9-ebd6-4b48-f38f-bddf12d8b8ac"
      },
      "outputs": [
        {
          "data": {
            "application/vnd.google.colaboratory.intrinsic+json": {
              "type": "string"
            },
            "text/plain": [
              "'Human evolution is the evolutionary process within the history of primates that led to the emergence of Homo sapiens as a distinct species of the hominid family, which includes all the great apes'"
            ]
          },
          "execution_count": 1535,
          "metadata": {},
          "output_type": "execute_result"
        }
      ],
      "source": [
        "sample[0]"
      ]
    },
    {
      "cell_type": "code",
      "execution_count": 1536,
      "metadata": {
        "colab": {
          "base_uri": "https://localhost:8080/",
          "height": 55
        },
        "id": "wRVqLhY_VlZd",
        "outputId": "9d52f8db-cde0-49d1-b1a2-2288a22d3604"
      },
      "outputs": [
        {
          "data": {
            "application/vnd.google.colaboratory.intrinsic+json": {
              "type": "string"
            },
            "text/plain": [
              "'ဇီဝဗေဒ ပညာတွင် ဆင့်ကဲပြောင်းလဲမှုဖြစ်စဉ် သို့မဟုတ် အီဗော်လူးရှင်း ဆိုသည်မှာ သက်ရှိအစုအဝေးများတွင် တွေ့ရသော မျိုးရိုးလိုက်သည့် လက္ခဏာရပ်များ အချိန်နှင့် အမျှ ပြောင်းလဲသွားခြင်းကို ခေါ်ဆိုခြင်း ဖြစ်သည်'"
            ]
          },
          "execution_count": 1536,
          "metadata": {},
          "output_type": "execute_result"
        }
      ],
      "source": [
        "sample[1]"
      ]
    },
    {
      "cell_type": "code",
      "execution_count": 1537,
      "metadata": {
        "colab": {
          "base_uri": "https://localhost:8080/"
        },
        "id": "eFvkqAtcVlZd",
        "outputId": "586f620a-663e-4c2c-d639-ed9afbd08f0b"
      },
      "outputs": [
        {
          "data": {
            "text/plain": [
              "tensor([   2, 5420,  500,   40,    4, 2614,  777,  322,    4,  192,    6, 3480,\n",
              "          23,   69,    9,    4, 2942,    6,  314,  809,   14,   10, 2931,  280,\n",
              "           6,    4, 2632,  541,    5,   27, 3411,   66,    4,  312, 1292,    3],\n",
              "       device='cuda:0')"
            ]
          },
          "execution_count": 1537,
          "metadata": {},
          "output_type": "execute_result"
        }
      ],
      "source": [
        "src_text = text_transform[SRC_LANGUAGE](sample[0]).to(device)\n",
        "src_text"
      ]
    },
    {
      "cell_type": "code",
      "execution_count": 1538,
      "metadata": {
        "colab": {
          "base_uri": "https://localhost:8080/"
        },
        "id": "4e9rZvOiVlZe",
        "outputId": "6bee00d6-51f2-4ce1-e71c-28386714f6c0"
      },
      "outputs": [
        {
          "data": {
            "text/plain": [
              "tensor([   2,  727,  166,    6, 1221,  152,   20, 1492,  236,    0,   97,    4,\n",
              "          19,  471, 1784,    5,    6,  113,   27,    9, 1118,  150,   34, 3499,\n",
              "           5,  130, 1166,  152,   80,   24,    7,  632,   24,   11,    4,    3],\n",
              "       device='cuda:0')"
            ]
          },
          "execution_count": 1538,
          "metadata": {},
          "output_type": "execute_result"
        }
      ],
      "source": [
        "trg_text = text_transform[TRG_LANGUAGE](sample[1]).to(device)\n",
        "trg_text"
      ]
    },
    {
      "cell_type": "code",
      "source": [
        "# print(\"Tokenized Source Text:\", text_transform[SRC_LANGUAGE](sample['English']))\n",
        "# print(\"Tokenized Target Text:\", text_transform[TRG_LANGUAGE](sample['Burmese']))"
      ],
      "metadata": {
        "id": "AXy5JFtnN_Gg"
      },
      "execution_count": 1539,
      "outputs": []
    },
    {
      "cell_type": "code",
      "source": [
        "# print(trg_text)\n",
        "# print([vocab_transform[TRG_LANGUAGE].lookup_token(i) for i in trg_text.squeeze().tolist()])\n"
      ],
      "metadata": {
        "id": "de9k18psv-k4"
      },
      "execution_count": 1540,
      "outputs": []
    },
    {
      "cell_type": "code",
      "source": [
        "# sample_text = \"မြန်မာစာကို tokenize လုပ်မည်။\"\n",
        "# tokens = token_transform[TRG_LANGUAGE](sample_text)\n",
        "# print(\"Tokenized:\", tokens)\n",
        "\n",
        "# indexed_tokens = vocab_transform[TRG_LANGUAGE](tokens)\n",
        "# print(\"Indexed Tokens:\", indexed_tokens)"
      ],
      "metadata": {
        "id": "dZJd7hOwwKEg"
      },
      "execution_count": 1541,
      "outputs": []
    },
    {
      "cell_type": "code",
      "source": [
        "# type(trg_text)"
      ],
      "metadata": {
        "id": "PTEWWVzBwzmT"
      },
      "execution_count": 1542,
      "outputs": []
    },
    {
      "cell_type": "code",
      "source": [
        "# text = \"မြန်မာစာကို tokenize လုပ်မည်။\"\n",
        "# tokens = pyidaungsu.tokenize(text, form=\"word\")\n",
        "# print(tokens)"
      ],
      "metadata": {
        "id": "-mCU1zWcL2gz"
      },
      "execution_count": 1543,
      "outputs": []
    },
    {
      "cell_type": "code",
      "source": [
        "# print(\"Tokenized:\", token_transform[TRG_LANGUAGE](sample['Burmese']))\n",
        "# print(\"Indexed Tokens:\", trg_text.squeeze().tolist())\n",
        "# print(\"Decoded Tokens:\", [vocab_transform[TRG_LANGUAGE].lookup_token(i) for i in trg_text.squeeze().tolist()])"
      ],
      "metadata": {
        "id": "CTTV5X_hw3kr"
      },
      "execution_count": 1544,
      "outputs": []
    },
    {
      "cell_type": "code",
      "source": [
        "# def preprocess_my_text(text):\n",
        "#     text = re.sub(r\"[a-zA-Z]+\", \"<eng>\", text)  # Replace English words with placeholder\n",
        "#     return text\n",
        "\n",
        "# sample_text = preprocess_my_text(\"မြန်မာစာကို tokenize လုပ်မည်။\")\n",
        "# tokens = token_transform[TRG_LANGUAGE](sample_text)\n",
        "# print(\"Tokenized:\", tokens)\n"
      ],
      "metadata": {
        "id": "RTtAVjPXwlDH"
      },
      "execution_count": 1545,
      "outputs": []
    },
    {
      "cell_type": "code",
      "execution_count": 1546,
      "metadata": {
        "id": "t7NlQGfgVlZe"
      },
      "outputs": [],
      "source": [
        "src_text = src_text.reshape(1, -1)  #because batch_size is 1"
      ]
    },
    {
      "cell_type": "code",
      "execution_count": 1547,
      "metadata": {
        "id": "jcka-c9_VlZe"
      },
      "outputs": [],
      "source": [
        "trg_text = trg_text.reshape(1, -1)"
      ]
    },
    {
      "cell_type": "code",
      "execution_count": 1548,
      "metadata": {
        "colab": {
          "base_uri": "https://localhost:8080/"
        },
        "id": "l4_IZQSiVlZe",
        "outputId": "798b6a43-44ff-4415-839a-db6cb5a11d82"
      },
      "outputs": [
        {
          "data": {
            "text/plain": [
              "(torch.Size([1, 36]), torch.Size([1, 36]))"
            ]
          },
          "execution_count": 1548,
          "metadata": {},
          "output_type": "execute_result"
        }
      ],
      "source": [
        "src_text.shape, trg_text.shape"
      ]
    },
    {
      "cell_type": "code",
      "execution_count": 1549,
      "metadata": {
        "id": "IgAWd7gEVlZe"
      },
      "outputs": [],
      "source": [
        "text_length = torch.tensor([src_text.size(0)]).to(dtype=torch.int64)"
      ]
    },
    {
      "cell_type": "code",
      "execution_count": 1550,
      "metadata": {
        "id": "c7_ewO5rVlZe"
      },
      "outputs": [],
      "source": [
        "model.load_state_dict(torch.load(save_path))\n",
        "\n",
        "model.eval()\n",
        "with torch.no_grad():\n",
        "    output, attentions = model(src_text, trg_text) #turn off teacher forcing"
      ]
    },
    {
      "cell_type": "code",
      "execution_count": 1551,
      "metadata": {
        "colab": {
          "base_uri": "https://localhost:8080/"
        },
        "id": "AUuow44wVlZf",
        "outputId": "63f2c973-e955-4f6e-dd25-93411c9ea175"
      },
      "outputs": [
        {
          "data": {
            "text/plain": [
              "torch.Size([1, 36, 5657])"
            ]
          },
          "execution_count": 1551,
          "metadata": {},
          "output_type": "execute_result"
        }
      ],
      "source": [
        "output.shape #batch_size, trg_len, trg_output_dim"
      ]
    },
    {
      "cell_type": "code",
      "source": [
        "# print(\"Attention Weights:\", attentions)"
      ],
      "metadata": {
        "id": "sW1ZBfhGMDB3"
      },
      "execution_count": 1552,
      "outputs": []
    },
    {
      "cell_type": "markdown",
      "metadata": {
        "id": "1n_S_BF1VlZf"
      },
      "source": [
        "Since batch size is 1, we just take off that dimension"
      ]
    },
    {
      "cell_type": "code",
      "source": [
        "# with torch.no_grad():\n",
        "#     output_logits, _ = model(src_text, trg_text)\n",
        "#     output_probs = output_logits.softmax(dim=-1)  # Convert logits to probabilities\n",
        "#     output_indices = output_probs.argmax(dim=-1).tolist()\n",
        "\n",
        "#     print(\"Raw Predicted Indices:\", output_indices)\n",
        "#     print(\"Raw Probabilities:\", output_probs.max(dim=-1)[0].tolist())"
      ],
      "metadata": {
        "id": "kApoITnpK0Mg"
      },
      "execution_count": 1553,
      "outputs": []
    },
    {
      "cell_type": "code",
      "source": [
        "# with torch.no_grad():\n",
        "#     output_c2, _ = model(src_text, trg_text)\n",
        "#     output_indices = output_c2.argmax(dim=-1).flatten().tolist()\n",
        "#     print(\"Predicted Word Indices:\", output_indices)\n",
        "\n",
        "#     predicted_tokens = [vocab_transform[TRG_LANGUAGE].lookup_token(i) for i in output_indices]\n",
        "#     print(\"Predicted Tokens:\", predicted_tokens)"
      ],
      "metadata": {
        "id": "iTlqiDDqJr39"
      },
      "execution_count": 1554,
      "outputs": []
    },
    {
      "cell_type": "code",
      "source": [
        "# with torch.no_grad():\n",
        "#     output_check, _ = model(src_text, trg_text)\n",
        "#     predicted_tokens = [vocab_transform[TRG_LANGUAGE].lookup_token(i.item()) for i in output_check.argmax(dim=-1)[0]] # Iterate through elements of the tensor directly\n",
        "#     print(\"Predicted Tokens:\", predicted_tokens)"
      ],
      "metadata": {
        "id": "AWbw9o6T-pYS"
      },
      "execution_count": 1555,
      "outputs": []
    },
    {
      "cell_type": "code",
      "source": [
        "# for batch in train_loader:\n",
        "#     print(\"Target Tokens:\", batch[2][0])  # Print first target sequence\n",
        "#     break"
      ],
      "metadata": {
        "id": "5Vy1LwdtKKyf"
      },
      "execution_count": 1556,
      "outputs": []
    },
    {
      "cell_type": "code",
      "source": [
        "# print(\"Model Raw Output:\", output)  # Logits before applying argmax\n",
        "# print(\"Output Shape:\", output.shape)  # Ensure correct dimensions"
      ],
      "metadata": {
        "id": "gMUh_zjlxJMo"
      },
      "execution_count": 1557,
      "outputs": []
    },
    {
      "cell_type": "code",
      "source": [
        "# first_token = vocab_transform[TRG_LANGUAGE].lookup_token(0)  # Assuming 0 is the index of the first token\n",
        "# print(\"First token in vocabulary:\", first_token)"
      ],
      "metadata": {
        "id": "LmdgyBswGMrB"
      },
      "execution_count": 1558,
      "outputs": []
    },
    {
      "cell_type": "code",
      "execution_count": 1559,
      "metadata": {
        "id": "5uVcMsF_VlZf"
      },
      "outputs": [],
      "source": [
        "output = output.squeeze(0)"
      ]
    },
    {
      "cell_type": "code",
      "execution_count": 1560,
      "metadata": {
        "colab": {
          "base_uri": "https://localhost:8080/"
        },
        "id": "o7xOyaFAVlZg",
        "outputId": "8177d909-e691-4e25-ac2c-db65d94e8862"
      },
      "outputs": [
        {
          "data": {
            "text/plain": [
              "torch.Size([36, 5657])"
            ]
          },
          "execution_count": 1560,
          "metadata": {},
          "output_type": "execute_result"
        }
      ],
      "source": [
        "output.shape"
      ]
    },
    {
      "cell_type": "code",
      "source": [
        "# output"
      ],
      "metadata": {
        "id": "YCFMwuL6HsVB"
      },
      "execution_count": 1561,
      "outputs": []
    },
    {
      "cell_type": "code",
      "source": [
        "# print(vocab_transform[TRG_LANGUAGE].lookup_token(0))  # Should print '<unk>'\n",
        "# print(vocab_transform[TRG_LANGUAGE].lookup_token(1))  # Should print '<pad>'\n",
        "# print(vocab_transform[TRG_LANGUAGE].lookup_token(2))  # Should print '<sos>'"
      ],
      "metadata": {
        "id": "83ZDeSQvIDcn"
      },
      "execution_count": 1562,
      "outputs": []
    },
    {
      "cell_type": "markdown",
      "metadata": {
        "id": "XFqKV4QRVlZg"
      },
      "source": [
        "We shall remove the first token since it's zeroes anyway"
      ]
    },
    {
      "cell_type": "code",
      "execution_count": 1563,
      "metadata": {
        "colab": {
          "base_uri": "https://localhost:8080/"
        },
        "id": "9E_NnF7GVlZg",
        "outputId": "e560fe72-3c85-4071-b58f-790643e0dd91"
      },
      "outputs": [
        {
          "data": {
            "text/plain": [
              "torch.Size([35, 5657])"
            ]
          },
          "execution_count": 1563,
          "metadata": {},
          "output_type": "execute_result"
        }
      ],
      "source": [
        "output = output[1:]\n",
        "output.shape #trg_len, trg_output_dim"
      ]
    },
    {
      "cell_type": "code",
      "source": [
        "# # temperature scaling\n",
        "# import torch.nn.functional as F\n",
        "\n",
        "# temperature = 2.0  # Try values between 1.5 - 3.0\n",
        "# probs = F.softmax(output / temperature, dim=1)  # Scale logits to smooth out extreme values\n",
        "# output_max = probs.argmax(dim=1)"
      ],
      "metadata": {
        "id": "Ykcyr7RtFqeQ"
      },
      "execution_count": 1564,
      "outputs": []
    },
    {
      "cell_type": "markdown",
      "metadata": {
        "id": "iE9omPNdVlZg"
      },
      "source": [
        "Then we just take the top token with highest probabilities"
      ]
    },
    {
      "cell_type": "code",
      "execution_count": 1565,
      "metadata": {
        "id": "ImJHvoVOVlZh"
      },
      "outputs": [],
      "source": [
        "output_max = output.argmax(1) #returns max indices"
      ]
    },
    {
      "cell_type": "code",
      "execution_count": 1566,
      "metadata": {
        "colab": {
          "base_uri": "https://localhost:8080/"
        },
        "id": "UL9luNkpVlZh",
        "outputId": "75aeeab7-e54a-4858-eeff-deadd068c2af"
      },
      "outputs": [
        {
          "data": {
            "text/plain": [
              "tensor([ 12,  19,   0, 152,  20,   5,   5,   0,   5,   9,   3,   0,   5,   5,\n",
              "          7,   0,  27,   9,   0,   0,   4,   0,   5,   7,  17,   0,  20,  24,\n",
              "         11,   0,  24,  11,   4,   3,  27], device='cuda:0')"
            ]
          },
          "execution_count": 1566,
          "metadata": {},
          "output_type": "execute_result"
        }
      ],
      "source": [
        "output_max"
      ]
    },
    {
      "cell_type": "code",
      "source": [
        "# print(\"Vocabulary size:\", len(vocab_transform[TRG_LANGUAGE]))\n",
        "# print(\"Sample tokens:\", [vocab_transform[TRG_LANGUAGE].lookup_token(i) for i in range(10)])"
      ],
      "metadata": {
        "id": "CRuV7hRsDTYI"
      },
      "execution_count": 1567,
      "outputs": []
    },
    {
      "cell_type": "code",
      "source": [
        "# predicted_tokens = [vocab_transform[TRG_LANGUAGE].lookup_token(i) for i in output_max.tolist()]\n",
        "# print(predicted_tokens)"
      ],
      "metadata": {
        "id": "NQXBO051xw6z"
      },
      "execution_count": 1568,
      "outputs": []
    },
    {
      "cell_type": "code",
      "source": [
        "# print(\"Most common prediction index:\", output_max.bincount().argmax().item())\n",
        "# print(\"Predicted indices:\", output_max.tolist())\n"
      ],
      "metadata": {
        "id": "WmFHrHcHyAOk"
      },
      "execution_count": 1569,
      "outputs": []
    },
    {
      "cell_type": "code",
      "source": [
        "# for name, param in model.named_parameters():\n",
        "#     if param.grad is not None:\n",
        "#         print(f\"{name} gradient mean: {param.grad.abs().mean().item()}\")"
      ],
      "metadata": {
        "collapsed": true,
        "id": "o63X1Szm3xP-"
      },
      "execution_count": 1570,
      "outputs": []
    },
    {
      "cell_type": "code",
      "source": [
        "# for name, param in model.named_parameters():\n",
        "#     if param.grad is not None:\n",
        "#         print(f\"{name}: {param.grad.abs().max().item()} (max gradient)\")"
      ],
      "metadata": {
        "collapsed": true,
        "id": "jSVRnKkP4Bn6"
      },
      "execution_count": 1571,
      "outputs": []
    },
    {
      "cell_type": "code",
      "source": [
        "# print(\"Most common prediction:\", output_max.bincount().argmax().item())"
      ],
      "metadata": {
        "id": "NsGhUHS3xc1p"
      },
      "execution_count": 1572,
      "outputs": []
    },
    {
      "cell_type": "code",
      "source": [
        "# probs = F.softmax(output, dim=-1)\n",
        "# output_max = probs.argmax(dim=-1)\n",
        "# print(output_max)"
      ],
      "metadata": {
        "id": "Ox2T58-xxlEs"
      },
      "execution_count": 1573,
      "outputs": []
    },
    {
      "cell_type": "markdown",
      "metadata": {
        "id": "w48ZU9RSVlZh"
      },
      "source": [
        "Get the mapping of the target language"
      ]
    },
    {
      "cell_type": "code",
      "source": [
        "# print(\"First 20 words in vocabulary:\", [vocab_transform[TRG_LANGUAGE].lookup_token(i) for i in range(20)])"
      ],
      "metadata": {
        "id": "PqouT4xrJcxm"
      },
      "execution_count": 1574,
      "outputs": []
    },
    {
      "cell_type": "code",
      "source": [
        "# print([token.item() for token in output_max])  # Check raw token IDs"
      ],
      "metadata": {
        "id": "HxFB0pVQBkiH"
      },
      "execution_count": 1575,
      "outputs": []
    },
    {
      "cell_type": "code",
      "source": [
        "# print(text_transform[SRC_LANGUAGE])  # Check if it prints a function"
      ],
      "metadata": {
        "id": "McLa_epRCil0"
      },
      "execution_count": 1576,
      "outputs": []
    },
    {
      "cell_type": "code",
      "source": [
        "# print(len(vocab_transform[SRC_LANGUAGE]))  # Source vocab size\n",
        "# print(len(vocab_transform[TRG_LANGUAGE]))  # Target vocab size"
      ],
      "metadata": {
        "id": "vry41JdjEH-8"
      },
      "execution_count": 1577,
      "outputs": []
    },
    {
      "cell_type": "code",
      "source": [
        "# unk_count = sum(1 for token in vocab_transform[TRG_LANGUAGE].get_itos() if token == '<unk>')\n",
        "# print(f\"Number of <unk> tokens in target vocab: {unk_count}\")"
      ],
      "metadata": {
        "id": "ImNcQNlnEWP3"
      },
      "execution_count": 1578,
      "outputs": []
    },
    {
      "cell_type": "code",
      "source": [
        "# print(torch.sum(output_max == 0).item())  # Count of `<unk>` predictions"
      ],
      "metadata": {
        "id": "mLwvtihxEplO"
      },
      "execution_count": 1579,
      "outputs": []
    },
    {
      "cell_type": "code",
      "source": [
        "# unk_count = sum(1 for token in vocab_transform[TRG_LANGUAGE].get_itos() if token == '<unk>')\n",
        "# print(f\"Number of <UNK> tokens in target vocab: {unk_count}\")"
      ],
      "metadata": {
        "id": "ljReUlZ0txWF"
      },
      "execution_count": 1580,
      "outputs": []
    },
    {
      "cell_type": "code",
      "source": [
        "# print(\"Raw predicted indices:\", output_max.tolist())\n",
        "# predicted_tokens = [vocab_transform[TRG_LANGUAGE].lookup_token(i) for i in output_max.tolist()]\n",
        "# print(\"Predicted Tokens:\", predicted_tokens)"
      ],
      "metadata": {
        "id": "yMwtgnlC0gAX"
      },
      "execution_count": 1581,
      "outputs": []
    },
    {
      "cell_type": "code",
      "source": [
        "# print(\"Vocabulary size:\", len(vocab_transform[TRG_LANGUAGE]))\n",
        "# for i in range(10):  # Print first 10 words\n",
        "#     print(f\"Index {i}: {vocab_transform[TRG_LANGUAGE].lookup_token(i)}\")"
      ],
      "metadata": {
        "id": "ljxNJZdX0lDw"
      },
      "execution_count": 1582,
      "outputs": []
    },
    {
      "cell_type": "code",
      "source": [
        "# import torch.nn.functional as F\n",
        "\n",
        "# probs = F.softmax(output, dim=-1)  # Convert logits to probabilities\n",
        "# print(\"Softmax Output (Probabilities):\")\n",
        "# print(probs)"
      ],
      "metadata": {
        "id": "jojhiQ1p05tr"
      },
      "execution_count": 1583,
      "outputs": []
    },
    {
      "cell_type": "code",
      "source": [
        "# output_max = probs.argmax(dim=-1)  # Get predicted word indices\n",
        "# print(\"Predicted Indices:\", output_max.tolist())\n",
        "\n",
        "# predicted_tokens = [vocab_transform[TRG_LANGUAGE].lookup_token(i) for i in output_max.tolist()]\n",
        "# print(\"Predicted Tokens:\", predicted_tokens)"
      ],
      "metadata": {
        "id": "TEhPNZ8j081K"
      },
      "execution_count": 1584,
      "outputs": []
    },
    {
      "cell_type": "code",
      "source": [
        "# assert SRC_PAD_IDX == PAD_IDX, \"Source padding index mismatch!\"\n",
        "# assert TRG_PAD_IDX == PAD_IDX, \"Target padding index mismatch!\""
      ],
      "metadata": {
        "id": "LaEoExTxt3JB"
      },
      "execution_count": 1585,
      "outputs": []
    },
    {
      "cell_type": "code",
      "source": [
        "# print(output[:5])  # Print first 5 timesteps of model output"
      ],
      "metadata": {
        "id": "3XSSOYtVFHPD"
      },
      "execution_count": 1586,
      "outputs": []
    },
    {
      "cell_type": "code",
      "source": [
        "# unk_count = sum(1 for sentence in train for token in sentence.split() if token == '<unk>')\n",
        "# total_tokens = sum(len(sentence.split()) for sentence in train)\n",
        "\n",
        "# print(f\"<unk> token frequency: {unk_count / total_tokens:.4f}\")  # Should be < 0.05 (5%)"
      ],
      "metadata": {
        "id": "zXQTy3kXFzfK"
      },
      "execution_count": 1587,
      "outputs": []
    },
    {
      "cell_type": "code",
      "execution_count": 1588,
      "metadata": {
        "id": "F29ETkEDVlZh"
      },
      "outputs": [],
      "source": [
        "# mapping = vocab_transform[TRG_LANGUAGE].get_itos()"
      ]
    },
    {
      "cell_type": "code",
      "source": [
        "# print(\"Vocabulary length:\", len(mapping))\n",
        "# print(\"First 10 mappings:\", mapping[:10])"
      ],
      "metadata": {
        "id": "aCEsZ6PAhO6-"
      },
      "execution_count": 1589,
      "outputs": []
    },
    {
      "cell_type": "code",
      "source": [
        "# print(\"First 10 output_max indices:\", output_max[:10])"
      ],
      "metadata": {
        "id": "zyLlMQhMhfsA"
      },
      "execution_count": 1590,
      "outputs": []
    },
    {
      "cell_type": "code",
      "source": [
        "mapping = vocab_transform[TRG_LANGUAGE].get_itos()"
      ],
      "metadata": {
        "id": "IukY4P0pqCy_"
      },
      "execution_count": 1591,
      "outputs": []
    },
    {
      "cell_type": "code",
      "execution_count": 1592,
      "metadata": {
        "colab": {
          "base_uri": "https://localhost:8080/"
        },
        "id": "g2bfH6mmVlZh",
        "outputId": "b5e87b41-4950-4a90-a1e3-f03725790901"
      },
      "outputs": [
        {
          "metadata": {
            "tags": null
          },
          "name": "stdout",
          "output_type": "stream",
          "text": [
            "၏\n",
            "မှာ\n",
            "<unk>\n",
            "ပြောင်းလဲ\n",
            "မှု\n",
            "များ\n",
            "များ\n",
            "<unk>\n",
            "များ\n",
            "သော\n",
            "<eos>\n",
            "<unk>\n",
            "များ\n",
            "များ\n",
            "ကို\n",
            "<unk>\n",
            "ရ\n",
            "သော\n",
            "<unk>\n",
            "<unk>\n",
            "သည်\n",
            "<unk>\n",
            "များ\n",
            "ကို\n",
            "မှ\n",
            "<unk>\n",
            "မှု\n",
            "ခြင်း\n",
            "ဖြစ်\n",
            "<unk>\n",
            "ခြင်း\n",
            "ဖြစ်\n",
            "သည်\n",
            "<eos>\n",
            "ရ\n"
          ]
        }
      ],
      "source": [
        "for token in output_max:\n",
        "    print(mapping[token.item()])"
      ]
    },
    {
      "cell_type": "markdown",
      "metadata": {
        "id": "Fov4Y7X9VlZh"
      },
      "source": [
        "## 8. Attention\n",
        "\n",
        "Let's display the attentions to understand how the source text links with the generated text"
      ]
    },
    {
      "cell_type": "code",
      "execution_count": 1593,
      "metadata": {
        "colab": {
          "base_uri": "https://localhost:8080/"
        },
        "id": "syuon5H6VlZh",
        "outputId": "99b6ba85-f977-4d68-ba5a-a878e46db7ed"
      },
      "outputs": [
        {
          "data": {
            "text/plain": [
              "torch.Size([1, 8, 36, 36])"
            ]
          },
          "execution_count": 1593,
          "metadata": {},
          "output_type": "execute_result"
        }
      ],
      "source": [
        "attentions.shape"
      ]
    },
    {
      "cell_type": "markdown",
      "metadata": {
        "id": "xJG9JwA5VlZi"
      },
      "source": [
        "Since there are 8 heads, we can look at just 1 head for sake of simplicity."
      ]
    },
    {
      "cell_type": "code",
      "execution_count": 1594,
      "metadata": {
        "colab": {
          "base_uri": "https://localhost:8080/"
        },
        "id": "L6o_SVX_VlZi",
        "outputId": "d64ebd98-740c-416e-ab42-05fcf0b6e00a"
      },
      "outputs": [
        {
          "data": {
            "text/plain": [
              "torch.Size([36, 36])"
            ]
          },
          "execution_count": 1594,
          "metadata": {},
          "output_type": "execute_result"
        }
      ],
      "source": [
        "attention = attentions[0, 0, :, :]\n",
        "attention.shape"
      ]
    },
    {
      "cell_type": "code",
      "execution_count": 1595,
      "metadata": {
        "colab": {
          "base_uri": "https://localhost:8080/"
        },
        "id": "sfuK6kkbVlZi",
        "outputId": "0001f367-9142-4af8-e068-fe3d1f53a473"
      },
      "outputs": [
        {
          "data": {
            "text/plain": [
              "['<sos>',\n",
              " 'Human',\n",
              " 'evolution',\n",
              " 'is',\n",
              " 'the',\n",
              " 'evolutionary',\n",
              " 'process',\n",
              " 'within',\n",
              " 'the',\n",
              " 'history',\n",
              " 'of',\n",
              " 'primates',\n",
              " 'that',\n",
              " 'led',\n",
              " 'to',\n",
              " 'the',\n",
              " 'emergence',\n",
              " 'of',\n",
              " 'Homo',\n",
              " 'sapiens',\n",
              " 'as',\n",
              " 'a',\n",
              " 'distinct',\n",
              " 'species',\n",
              " 'of',\n",
              " 'the',\n",
              " 'hominid',\n",
              " 'family',\n",
              " ',',\n",
              " 'which',\n",
              " 'includes',\n",
              " 'all',\n",
              " 'the',\n",
              " 'great',\n",
              " 'apes',\n",
              " '<eos>']"
            ]
          },
          "execution_count": 1595,
          "metadata": {},
          "output_type": "execute_result"
        }
      ],
      "source": [
        "src_tokens = ['<sos>'] + token_transform[SRC_LANGUAGE](sample[0]) + ['<eos>']\n",
        "src_tokens"
      ]
    },
    {
      "cell_type": "code",
      "execution_count": 1596,
      "metadata": {
        "colab": {
          "base_uri": "https://localhost:8080/"
        },
        "id": "p0WbZm7lVlZi",
        "outputId": "0609fc27-1cd7-4b33-d0c4-0bba53a462e5"
      },
      "outputs": [
        {
          "data": {
            "text/plain": [
              "['<sos>',\n",
              " '၏',\n",
              " 'မှာ',\n",
              " '<unk>',\n",
              " 'ပြောင်းလဲ',\n",
              " 'မှု',\n",
              " 'များ',\n",
              " 'များ',\n",
              " '<unk>',\n",
              " 'များ',\n",
              " 'သော',\n",
              " '<eos>',\n",
              " '<unk>',\n",
              " 'များ',\n",
              " 'များ',\n",
              " 'ကို',\n",
              " '<unk>',\n",
              " 'ရ',\n",
              " 'သော',\n",
              " '<unk>',\n",
              " '<unk>',\n",
              " 'သည်',\n",
              " '<unk>',\n",
              " 'များ',\n",
              " 'ကို',\n",
              " 'မှ',\n",
              " '<unk>',\n",
              " 'မှု',\n",
              " 'ခြင်း',\n",
              " 'ဖြစ်',\n",
              " '<unk>',\n",
              " 'ခြင်း',\n",
              " 'ဖြစ်',\n",
              " 'သည်',\n",
              " '<eos>',\n",
              " 'ရ']"
            ]
          },
          "execution_count": 1596,
          "metadata": {},
          "output_type": "execute_result"
        }
      ],
      "source": [
        "trg_tokens = ['<sos>'] + [mapping[token.item()] for token in output_max]\n",
        "trg_tokens"
      ]
    },
    {
      "cell_type": "code",
      "execution_count": 1597,
      "metadata": {
        "id": "MpZToAbEVlZi"
      },
      "outputs": [],
      "source": [
        "import matplotlib.ticker as ticker\n",
        "\n",
        "def display_attention(sentence, translation, attention):\n",
        "\n",
        "    fig = plt.figure(figsize=(10,10))\n",
        "    ax = fig.add_subplot(111)\n",
        "\n",
        "    attention = attention.squeeze(1).cpu().detach().numpy()\n",
        "\n",
        "    cax = ax.matshow(attention, cmap='bone')\n",
        "\n",
        "    ax.tick_params(labelsize=10)\n",
        "\n",
        "    y_ticks =  [''] + translation\n",
        "    x_ticks =  [''] + sentence\n",
        "\n",
        "    ax.set_xticklabels(x_ticks, rotation=45)\n",
        "    ax.set_yticklabels(y_ticks)\n",
        "\n",
        "    ax.xaxis.set_major_locator(ticker.MultipleLocator(1))\n",
        "    ax.yaxis.set_major_locator(ticker.MultipleLocator(1))\n",
        "\n",
        "    plt.show()\n",
        "    plt.close()"
      ]
    },
    {
      "cell_type": "code",
      "execution_count": 1598,
      "metadata": {
        "colab": {
          "base_uri": "https://localhost:8080/",
          "height": 1000
        },
        "id": "ZZ-y3RkYVlZj",
        "outputId": "d4b8e6c1-cb42-45ac-af0f-1f89c601b072"
      },
      "outputs": [
        {
          "metadata": {
            "tags": null
          },
          "name": "stderr",
          "output_type": "stream",
          "text": [
            "<ipython-input-1597-08ff35c238c4>:17: UserWarning: set_ticklabels() should only be used with a fixed number of ticks, i.e. after set_ticks() or using a FixedLocator.\n",
            "  ax.set_xticklabels(x_ticks, rotation=45)\n",
            "<ipython-input-1597-08ff35c238c4>:18: UserWarning: set_ticklabels() should only be used with a fixed number of ticks, i.e. after set_ticks() or using a FixedLocator.\n",
            "  ax.set_yticklabels(y_ticks)\n",
            "/usr/local/lib/python3.11/dist-packages/IPython/core/pylabtools.py:151: UserWarning: Glyph 4175 (\\N{MYANMAR SYMBOL GENITIVE}) missing from font(s) DejaVu Sans.\n",
            "  fig.canvas.print_figure(bytes_io, **kw)\n",
            "/usr/local/lib/python3.11/dist-packages/IPython/core/pylabtools.py:151: UserWarning: Glyph 4121 (\\N{MYANMAR LETTER MA}) missing from font(s) DejaVu Sans.\n",
            "  fig.canvas.print_figure(bytes_io, **kw)\n",
            "/usr/local/lib/python3.11/dist-packages/IPython/core/pylabtools.py:151: UserWarning: Glyph 4158 (\\N{MYANMAR CONSONANT SIGN MEDIAL HA}) missing from font(s) DejaVu Sans.\n",
            "  fig.canvas.print_figure(bytes_io, **kw)\n",
            "/usr/local/lib/python3.11/dist-packages/IPython/core/pylabtools.py:151: UserWarning: Glyph 4140 (\\N{MYANMAR VOWEL SIGN AA}) missing from font(s) DejaVu Sans.\n",
            "  fig.canvas.print_figure(bytes_io, **kw)\n",
            "/usr/local/lib/python3.11/dist-packages/IPython/core/pylabtools.py:151: UserWarning: Glyph 4117 (\\N{MYANMAR LETTER PA}) missing from font(s) DejaVu Sans.\n",
            "  fig.canvas.print_figure(bytes_io, **kw)\n",
            "/usr/local/lib/python3.11/dist-packages/IPython/core/pylabtools.py:151: UserWarning: Glyph 4156 (\\N{MYANMAR CONSONANT SIGN MEDIAL RA}) missing from font(s) DejaVu Sans.\n",
            "  fig.canvas.print_figure(bytes_io, **kw)\n",
            "/usr/local/lib/python3.11/dist-packages/IPython/core/pylabtools.py:151: UserWarning: Glyph 4145 (\\N{MYANMAR VOWEL SIGN E}) missing from font(s) DejaVu Sans.\n",
            "  fig.canvas.print_figure(bytes_io, **kw)\n",
            "/usr/local/lib/python3.11/dist-packages/IPython/core/pylabtools.py:151: UserWarning: Glyph 4100 (\\N{MYANMAR LETTER NGA}) missing from font(s) DejaVu Sans.\n",
            "  fig.canvas.print_figure(bytes_io, **kw)\n",
            "/usr/local/lib/python3.11/dist-packages/IPython/core/pylabtools.py:151: UserWarning: Glyph 4154 (\\N{MYANMAR SIGN ASAT}) missing from font(s) DejaVu Sans.\n",
            "  fig.canvas.print_figure(bytes_io, **kw)\n",
            "/usr/local/lib/python3.11/dist-packages/IPython/core/pylabtools.py:151: UserWarning: Glyph 4152 (\\N{MYANMAR SIGN VISARGA}) missing from font(s) DejaVu Sans.\n",
            "  fig.canvas.print_figure(bytes_io, **kw)\n",
            "/usr/local/lib/python3.11/dist-packages/IPython/core/pylabtools.py:151: UserWarning: Glyph 4124 (\\N{MYANMAR LETTER LA}) missing from font(s) DejaVu Sans.\n",
            "  fig.canvas.print_figure(bytes_io, **kw)\n",
            "/usr/local/lib/python3.11/dist-packages/IPython/core/pylabtools.py:151: UserWarning: Glyph 4146 (\\N{MYANMAR VOWEL SIGN AI}) missing from font(s) DejaVu Sans.\n",
            "  fig.canvas.print_figure(bytes_io, **kw)\n",
            "/usr/local/lib/python3.11/dist-packages/IPython/core/pylabtools.py:151: UserWarning: Glyph 4143 (\\N{MYANMAR VOWEL SIGN U}) missing from font(s) DejaVu Sans.\n",
            "  fig.canvas.print_figure(bytes_io, **kw)\n",
            "/usr/local/lib/python3.11/dist-packages/IPython/core/pylabtools.py:151: UserWarning: Glyph 4155 (\\N{MYANMAR CONSONANT SIGN MEDIAL YA}) missing from font(s) DejaVu Sans.\n",
            "  fig.canvas.print_figure(bytes_io, **kw)\n",
            "/usr/local/lib/python3.11/dist-packages/IPython/core/pylabtools.py:151: UserWarning: Glyph 4126 (\\N{MYANMAR LETTER SA}) missing from font(s) DejaVu Sans.\n",
            "  fig.canvas.print_figure(bytes_io, **kw)\n",
            "/usr/local/lib/python3.11/dist-packages/IPython/core/pylabtools.py:151: UserWarning: Glyph 4096 (\\N{MYANMAR LETTER KA}) missing from font(s) DejaVu Sans.\n",
            "  fig.canvas.print_figure(bytes_io, **kw)\n",
            "/usr/local/lib/python3.11/dist-packages/IPython/core/pylabtools.py:151: UserWarning: Glyph 4141 (\\N{MYANMAR VOWEL SIGN I}) missing from font(s) DejaVu Sans.\n",
            "  fig.canvas.print_figure(bytes_io, **kw)\n",
            "/usr/local/lib/python3.11/dist-packages/IPython/core/pylabtools.py:151: UserWarning: Glyph 4123 (\\N{MYANMAR LETTER RA}) missing from font(s) DejaVu Sans.\n",
            "  fig.canvas.print_figure(bytes_io, **kw)\n",
            "/usr/local/lib/python3.11/dist-packages/IPython/core/pylabtools.py:151: UserWarning: Glyph 4106 (\\N{MYANMAR LETTER NNYA}) missing from font(s) DejaVu Sans.\n",
            "  fig.canvas.print_figure(bytes_io, **kw)\n",
            "/usr/local/lib/python3.11/dist-packages/IPython/core/pylabtools.py:151: UserWarning: Glyph 4097 (\\N{MYANMAR LETTER KHA}) missing from font(s) DejaVu Sans.\n",
            "  fig.canvas.print_figure(bytes_io, **kw)\n",
            "/usr/local/lib/python3.11/dist-packages/IPython/core/pylabtools.py:151: UserWarning: Glyph 4118 (\\N{MYANMAR LETTER PHA}) missing from font(s) DejaVu Sans.\n",
            "  fig.canvas.print_figure(bytes_io, **kw)\n",
            "/usr/local/lib/python3.11/dist-packages/IPython/core/pylabtools.py:151: UserWarning: Glyph 4101 (\\N{MYANMAR LETTER CA}) missing from font(s) DejaVu Sans.\n",
            "  fig.canvas.print_figure(bytes_io, **kw)\n"
          ]
        },
        {
          "data": {
            "image/png": "[encoded data removed]",
            "text/plain": [
              "<Figure size 1000x1000 with 1 Axes>"
            ]
          },
          "metadata": {},
          "output_type": "display_data"
        }
      ],
      "source": [
        "display_attention(src_tokens, trg_tokens, attention)"
      ]
    },
    {
      "cell_type": "code",
      "source": [
        "import pickle\n",
        "\n",
        "vocab = {\n",
        "    'token_transform': token_transform,\n",
        "    'vocab_transform': vocab_transform,\n",
        "}\n",
        "pickle.dump(vocab, open('models/mtt_additive.pkl', 'wb'))"
      ],
      "metadata": {
        "id": "2MZL103C3vPN"
      },
      "execution_count": 1599,
      "outputs": []
    }
  ],
  "metadata": {
    "kernelspec": {
      "display_name": "Python 3",
      "name": "python3"
    },
    "language_info": {
      "codemirror_mode": {
        "name": "ipython",
        "version": 3
      },
      "file_extension": ".py",
      "mimetype": "text/x-python",
      "name": "python",
      "nbconvert_exporter": "python",
      "pygments_lexer": "ipython3",
      "version": "3.9.6"
    },
    "vscode": {
      "interpreter": {
        "hash": "714d3f4db9a58ba7d2f2a9a4fffe577af3df8551aebd380095064812e2e0a6a4"
      }
    },
    "colab": {
      "provenance": [],
      "gpuType": "T4"
    },
    "accelerator": "GPU"
  },
  "nbformat": 4,
  "nbformat_minor": 0
}
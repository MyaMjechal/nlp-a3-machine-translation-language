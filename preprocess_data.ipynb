{
 "cells": [
  {
   "cell_type": "code",
   "execution_count": 32,
   "metadata": {},
   "outputs": [],
   "source": [
    "import re\n",
    "import pandas as pd\n",
    "from datasets import load_dataset\n",
    "from sklearn.model_selection import train_test_split"
   ]
  },
  {
   "cell_type": "code",
   "execution_count": 33,
   "metadata": {},
   "outputs": [],
   "source": [
    "def preprocess_text(text, language=\"en\"):\n",
    "    \"\"\"\n",
    "    Preprocess English and Burmese text.\n",
    "\n",
    "    Args:\n",
    "        text (str): Input text.\n",
    "        language (str): \"en\" for English, \"my\" for Burmese.\n",
    "\n",
    "    Returns:\n",
    "        str: Preprocessed text.\n",
    "    \"\"\"\n",
    "    if not isinstance(text, str) or text.strip() == \"\":\n",
    "        return \"\"\n",
    "\n",
    "    if language == \"en\":\n",
    "        # Remove special characters but keep letters, numbers, spaces, and apostrophes\n",
    "        text = re.sub(r\"[^a-zA-Z0-9\\s']\", \"\", text)\n",
    "        text = re.sub(r\"\\s+\", \" \", text).strip()  # Normalize spaces\n",
    "\n",
    "    elif language == \"my\":\n",
    "        # Remove English words and numbers, keep only Myanmar script and punctuation (၊ and ။)\n",
    "        text = re.sub(r\"[a-zA-Z0-9]\", \"\", text)  # Remove English and numbers\n",
    "        text = re.sub(r\"[^\\u1000-\\u109F\\s၊။]\", \"\", text)  # Keep only Burmese script and punctuation\n",
    "        text = re.sub(r\"\\s+\", \" \", text).strip()  # Normalize spaces\n",
    "\n",
    "    return text"
   ]
  },
  {
   "cell_type": "code",
   "execution_count": 34,
   "metadata": {},
   "outputs": [
    {
     "name": "stderr",
     "output_type": "stream",
     "text": [
      "d:\\Code\\AIT\\MsDSAI\\January2025\\nlp-a3-machine-translation-language\\venv\\lib\\site-packages\\huggingface_hub\\file_download.py:140: UserWarning: `huggingface_hub` cache-system uses symlinks by default to efficiently store duplicated files but your machine does not support them in C:\\Users\\Acer\\.cache\\huggingface\\hub\\datasets--akhtet--myanmar-xnli. Caching files will still work but in a degraded version that might require more space on your disk. This warning can be disabled by setting the `HF_HUB_DISABLE_SYMLINKS_WARNING` environment variable. For more details, see https://huggingface.co/docs/huggingface_hub/how-to-cache#limitations.\n",
      "To support symlinks on Windows, you either need to activate Developer Mode or to run Python as an administrator. In order to activate developer mode, see this article: https://docs.microsoft.com/en-us/windows/apps/get-started/enable-your-device-for-development\n",
      "  warnings.warn(message)\n",
      "Generating train split: 100%|██████████| 392702/392702 [00:01<00:00, 239764.74 examples/s]\n",
      "Generating validation split: 100%|██████████| 2490/2490 [00:00<00:00, 135996.05 examples/s]\n",
      "Generating test split: 100%|██████████| 5010/5010 [00:00<00:00, 192700.97 examples/s]\n"
     ]
    }
   ],
   "source": [
    "# Load dataset from Hugging Face\n",
    "dataset = load_dataset(\"akhtet/myanmar-xnli\")"
   ]
  },
  {
   "cell_type": "code",
   "execution_count": 36,
   "metadata": {},
   "outputs": [],
   "source": [
    "# Convert to Pandas DataFrame\n",
    "df = pd.DataFrame(dataset[\"train\"])"
   ]
  },
  {
   "cell_type": "code",
   "execution_count": 37,
   "metadata": {},
   "outputs": [
    {
     "data": {
      "text/html": [
       "<div>\n",
       "<style scoped>\n",
       "    .dataframe tbody tr th:only-of-type {\n",
       "        vertical-align: middle;\n",
       "    }\n",
       "\n",
       "    .dataframe tbody tr th {\n",
       "        vertical-align: top;\n",
       "    }\n",
       "\n",
       "    .dataframe thead th {\n",
       "        text-align: right;\n",
       "    }\n",
       "</style>\n",
       "<table border=\"1\" class=\"dataframe\">\n",
       "  <thead>\n",
       "    <tr style=\"text-align: right;\">\n",
       "      <th></th>\n",
       "      <th>genre</th>\n",
       "      <th>label</th>\n",
       "      <th>sentence1_en</th>\n",
       "      <th>sentence2_en</th>\n",
       "      <th>sentence1_my</th>\n",
       "      <th>sentence2_my</th>\n",
       "    </tr>\n",
       "  </thead>\n",
       "  <tbody>\n",
       "    <tr>\n",
       "      <th>0</th>\n",
       "      <td>government</td>\n",
       "      <td>neutral</td>\n",
       "      <td>Conceptually cream skimming has two basic dime...</td>\n",
       "      <td>Product and geography are what make cream skim...</td>\n",
       "      <td>သဘောတရားအရ ခရင်မ်စိမ်ခြင်းတွင် အခြေခံအတိုင်းအတ...</td>\n",
       "      <td>ထုတ်ကုန်နှင့် ပထဝီဝင်အနေအထားသည် ခရင်မ် skimmin...</td>\n",
       "    </tr>\n",
       "    <tr>\n",
       "      <th>1</th>\n",
       "      <td>telephone</td>\n",
       "      <td>entailment</td>\n",
       "      <td>you know during the season and i guess at at y...</td>\n",
       "      <td>You lose the things to the following level if ...</td>\n",
       "      <td>ရာသီအတွင်း မင်းသိတယ်၊ မင်းရဲ့အဆင့်ကို ငါ ခန့်မ...</td>\n",
       "      <td>လူတွေပြန်ခေါ်ရင် အောက်ပါအဆင့်အထိ ဆုံးရှုံးသွား...</td>\n",
       "    </tr>\n",
       "    <tr>\n",
       "      <th>2</th>\n",
       "      <td>fiction</td>\n",
       "      <td>entailment</td>\n",
       "      <td>One of our number will carry out your instruct...</td>\n",
       "      <td>A member of my team will execute your orders w...</td>\n",
       "      <td>ကျွန်ုပ်တို့၏နံပါတ်တစ်ခုသည် သင့်ညွှန်ကြားချက်မ...</td>\n",
       "      <td>ကျွန်ုပ်၏အဖွဲ့သားတစ်ဦးသည် သင်၏အမိန့်စာများကို ...</td>\n",
       "    </tr>\n",
       "    <tr>\n",
       "      <th>3</th>\n",
       "      <td>fiction</td>\n",
       "      <td>entailment</td>\n",
       "      <td>How do you know? All this is their information...</td>\n",
       "      <td>This information belongs to them.</td>\n",
       "      <td>သင်ဘယ်လိုသိသလဲ? ဒါတွေအားလုံးဟာ သူတို့ရဲ့ အချက်...</td>\n",
       "      <td>ဒီအချက်အလက်က သူတို့ပိုင်တယ်။</td>\n",
       "    </tr>\n",
       "    <tr>\n",
       "      <th>4</th>\n",
       "      <td>telephone</td>\n",
       "      <td>neutral</td>\n",
       "      <td>yeah i tell you what though if you go price so...</td>\n",
       "      <td>The tennis shoes have a range of prices.</td>\n",
       "      <td>ဟုတ်တယ် ငါမင်းကိုပြောပြမယ် ဒီတင်းနစ်ဖိနပ်တချို...</td>\n",
       "      <td>တင်းနစ်ဖိနပ်များသည် ဈေးနှုန်းအမျိုးမျိုးရှိသည်။</td>\n",
       "    </tr>\n",
       "  </tbody>\n",
       "</table>\n",
       "</div>"
      ],
      "text/plain": [
       "        genre       label                                       sentence1_en  \\\n",
       "0  government     neutral  Conceptually cream skimming has two basic dime...   \n",
       "1   telephone  entailment  you know during the season and i guess at at y...   \n",
       "2     fiction  entailment  One of our number will carry out your instruct...   \n",
       "3     fiction  entailment  How do you know? All this is their information...   \n",
       "4   telephone     neutral  yeah i tell you what though if you go price so...   \n",
       "\n",
       "                                        sentence2_en  \\\n",
       "0  Product and geography are what make cream skim...   \n",
       "1  You lose the things to the following level if ...   \n",
       "2  A member of my team will execute your orders w...   \n",
       "3                  This information belongs to them.   \n",
       "4           The tennis shoes have a range of prices.   \n",
       "\n",
       "                                        sentence1_my  \\\n",
       "0  သဘောတရားအရ ခရင်မ်စိမ်ခြင်းတွင် အခြေခံအတိုင်းအတ...   \n",
       "1  ရာသီအတွင်း မင်းသိတယ်၊ မင်းရဲ့အဆင့်ကို ငါ ခန့်မ...   \n",
       "2  ကျွန်ုပ်တို့၏နံပါတ်တစ်ခုသည် သင့်ညွှန်ကြားချက်မ...   \n",
       "3  သင်ဘယ်လိုသိသလဲ? ဒါတွေအားလုံးဟာ သူတို့ရဲ့ အချက်...   \n",
       "4  ဟုတ်တယ် ငါမင်းကိုပြောပြမယ် ဒီတင်းနစ်ဖိနပ်တချို...   \n",
       "\n",
       "                                        sentence2_my  \n",
       "0  ထုတ်ကုန်နှင့် ပထဝီဝင်အနေအထားသည် ခရင်မ် skimmin...  \n",
       "1  လူတွေပြန်ခေါ်ရင် အောက်ပါအဆင့်အထိ ဆုံးရှုံးသွား...  \n",
       "2  ကျွန်ုပ်၏အဖွဲ့သားတစ်ဦးသည် သင်၏အမိန့်စာများကို ...  \n",
       "3                       ဒီအချက်အလက်က သူတို့ပိုင်တယ်။  \n",
       "4    တင်းနစ်ဖိနပ်များသည် ဈေးနှုန်းအမျိုးမျိုးရှိသည်။  "
      ]
     },
     "execution_count": 37,
     "metadata": {},
     "output_type": "execute_result"
    }
   ],
   "source": [
    "df.head()"
   ]
  },
  {
   "cell_type": "code",
   "execution_count": 44,
   "metadata": {},
   "outputs": [
    {
     "name": "stdout",
     "output_type": "stream",
     "text": [
      "Saved train dataset with 50000 rows to data/en_my_train.csv\n",
      "Saved validation dataset with 2490 rows to data/en_my_validation.csv\n",
      "Saved test dataset with 5010 rows to data/en_my_test.csv\n"
     ]
    }
   ],
   "source": [
    "# Process each split and sample 50,000 rows\n",
    "for split in [\"train\", \"validation\", \"test\"]:\n",
    "    df = pd.DataFrame(dataset[split])  # Convert to Pandas DataFrame\n",
    "\n",
    "    # Sample 50,000 rows while maintaining alignment\n",
    "    sample_size = min(50000, len(df))\n",
    "    df_sampled = df.sample(n=sample_size, random_state=42).reset_index(drop=True)\n",
    "\n",
    "    # Keep only relevant columns and rename\n",
    "    df_aligned = df_sampled[[\"sentence1_en\", \"sentence1_my\"]].rename(columns={\"sentence1_en\": \"en\", \"sentence1_my\": \"my\"})\n",
    "\n",
    "    # Apply preprocessing\n",
    "    df_aligned[\"en\"] = df_aligned[\"en\"].apply(lambda x: preprocess_text(x, language=\"en\"))\n",
    "    df_aligned[\"my\"] = df_aligned[\"my\"].apply(lambda x: preprocess_text(x, language=\"my\"))\n",
    "\n",
    "    # Ensure alignment by keeping the minimum available pairs\n",
    "    min_len = min(len(df_aligned[\"en\"]), len(df_aligned[\"my\"]))\n",
    "    df_aligned = df_aligned.iloc[:min_len]  # Ensure exact alignment\n",
    "\n",
    "    # Save processed data\n",
    "    output_path = f\"data/en_my_{split}.csv\"\n",
    "    df_aligned.to_csv(output_path, index=False)\n",
    "    print(f\"Saved {split} dataset with {sample_size} rows to {output_path}\")"
   ]
  },
  {
   "cell_type": "code",
   "execution_count": null,
   "metadata": {},
   "outputs": [],
   "source": [
    "# # define sample size to 50,000\n",
    "# sample_size = 50000\n",
    "# df_sampled = df.sample(n=sample_size, random_state=42).reset_index(drop=True)"
   ]
  },
  {
   "cell_type": "code",
   "execution_count": 22,
   "metadata": {},
   "outputs": [],
   "source": [
    "# # Filter only 'en' and 'my' texts while preserving order\n",
    "# df_en = df_sampled[df_sampled[\"label\"] == \"sentence1_en\"].reset_index(drop=True)\n",
    "# df_my = df_sampled[df_sampled[\"label\"] == \"sentence1_my\"].reset_index(drop=True)"
   ]
  },
  {
   "cell_type": "code",
   "execution_count": 23,
   "metadata": {},
   "outputs": [],
   "source": [
    "# # Ensure correct alignment by keeping the same index range\n",
    "# min_len = min(len(df_en), len(df_my))\n",
    "# df_aligned = pd.DataFrame({\n",
    "#     \"en\": df_en[\"text\"].iloc[:min_len].values,  # Ensure equal pairs\n",
    "#     \"my\": df_my[\"text\"].iloc[:min_len].values\n",
    "# })"
   ]
  },
  {
   "cell_type": "code",
   "execution_count": 24,
   "metadata": {},
   "outputs": [],
   "source": [
    "# # Apply preprocessing\n",
    "# df_aligned[\"en\"] = df_aligned[\"en\"].apply(lambda x: preprocess_text(x, language=\"en\"))\n",
    "# df_aligned[\"my\"] = df_aligned[\"my\"].apply(lambda x: preprocess_text(x, language=\"my\"))"
   ]
  },
  {
   "cell_type": "code",
   "execution_count": 25,
   "metadata": {},
   "outputs": [
    {
     "name": "stdout",
     "output_type": "stream",
     "text": [
      "Saved cleaned dataset: processed_main_data.csv\n"
     ]
    }
   ],
   "source": [
    "# # Save the cleaned dataset\n",
    "# df_aligned.to_csv(\"data/processed_main_data.csv\", index=False)\n",
    "# print(\"Saved cleaned dataset: processed_main_data.csv\")"
   ]
  },
  {
   "cell_type": "code",
   "execution_count": 26,
   "metadata": {},
   "outputs": [],
   "source": [
    "# # Ensure data remains in the same order\n",
    "# df_aligned = df_aligned.sample(frac=1, random_state=42).reset_index(drop=True)"
   ]
  },
  {
   "cell_type": "code",
   "execution_count": 27,
   "metadata": {},
   "outputs": [],
   "source": [
    "# # Split into train (80%), validation (10%), and test (10%)\n",
    "# train, temp = train_test_split(df_aligned, test_size=0.2, random_state=42)\n",
    "# val, test = train_test_split(temp, test_size=0.5, random_state=42)"
   ]
  },
  {
   "cell_type": "code",
   "execution_count": 28,
   "metadata": {},
   "outputs": [
    {
     "name": "stdout",
     "output_type": "stream",
     "text": [
      "Saved train dataset: en_my_train_80.csv\n",
      "Saved validation dataset: en_my_val_10.csv\n",
      "Saved test dataset: en_my_test_10.csv\n"
     ]
    }
   ],
   "source": [
    "# # Save the splits\n",
    "# train.to_csv(\"data/en_my_train_80.csv\", index=False)\n",
    "# val.to_csv(\"data/en_my_val_10.csv\", index=False)\n",
    "# test.to_csv(\"data/en_my_test_10.csv\", index=False)\n",
    "\n",
    "# print(\"Saved train dataset: en_my_train_80.csv\")\n",
    "# print(\"Saved validation dataset: en_my_val_10.csv\")\n",
    "# print(\"Saved test dataset: en_my_test_10.csv\")"
   ]
  }
 ],
 "metadata": {
  "kernelspec": {
   "display_name": "venv",
   "language": "python",
   "name": "python3"
  },
  "language_info": {
   "codemirror_mode": {
    "name": "ipython",
    "version": 3
   },
   "file_extension": ".py",
   "mimetype": "text/x-python",
   "name": "python",
   "nbconvert_exporter": "python",
   "pygments_lexer": "ipython3",
   "version": "3.9.13"
  }
 },
 "nbformat": 4,
 "nbformat_minor": 2
}

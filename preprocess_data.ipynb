{
 "cells": [
  {
   "cell_type": "code",
   "execution_count": 1,
   "metadata": {},
   "outputs": [
    {
     "name": "stderr",
     "output_type": "stream",
     "text": [
      "d:\\Code\\AIT\\MsDSAI\\January2025\\nlp-a3-machine-translation-language\\venv\\lib\\site-packages\\tqdm\\auto.py:21: TqdmWarning: IProgress not found. Please update jupyter and ipywidgets. See https://ipywidgets.readthedocs.io/en/stable/user_install.html\n",
      "  from .autonotebook import tqdm as notebook_tqdm\n"
     ]
    }
   ],
   "source": [
    "import re\n",
    "import pandas as pd\n",
    "from datasets import load_dataset\n",
    "from sklearn.model_selection import train_test_split"
   ]
  },
  {
   "cell_type": "code",
   "execution_count": 2,
   "metadata": {},
   "outputs": [],
   "source": [
    "def preprocess_text(text, language=\"en\"):\n",
    "    \"\"\"\n",
    "    Preprocess English and Burmese text.\n",
    "\n",
    "    Args:\n",
    "        text (str): Input text.\n",
    "        language (str): \"en\" for English, \"my\" for Burmese.\n",
    "\n",
    "    Returns:\n",
    "        str: Preprocessed text.\n",
    "    \"\"\"\n",
    "    if not isinstance(text, str) or text.strip() == \"\":\n",
    "        return \"\"\n",
    "\n",
    "    if language == \"en\":\n",
    "        # Remove special characters but keep letters, numbers, spaces, and apostrophes\n",
    "        text = re.sub(r\"[^a-zA-Z0-9\\s']\", \"\", text)\n",
    "        text = re.sub(r\"\\s+\", \" \", text).strip()  # Normalize spaces\n",
    "\n",
    "    elif language == \"my\":\n",
    "        # Remove English words and numbers, keep only Myanmar script and punctuation (၊ and ။)\n",
    "        text = re.sub(r\"[a-zA-Z0-9]\", \"\", text)  # Remove English and numbers\n",
    "        text = re.sub(r\"[^\\u1000-\\u109F\\s၊။]\", \"\", text)  # Keep only Burmese script and punctuation\n",
    "        text = re.sub(r\"\\s+\", \" \", text).strip()  # Normalize spaces\n",
    "\n",
    "    return text"
   ]
  },
  {
   "cell_type": "code",
   "execution_count": 3,
   "metadata": {},
   "outputs": [
    {
     "name": "stderr",
     "output_type": "stream",
     "text": [
      "d:\\Code\\AIT\\MsDSAI\\January2025\\nlp-a3-machine-translation-language\\venv\\lib\\site-packages\\huggingface_hub\\file_download.py:140: UserWarning: `huggingface_hub` cache-system uses symlinks by default to efficiently store duplicated files but your machine does not support them in C:\\Users\\Acer\\.cache\\huggingface\\hub\\datasets--simbolo-ai--hola. Caching files will still work but in a degraded version that might require more space on your disk. This warning can be disabled by setting the `HF_HUB_DISABLE_SYMLINKS_WARNING` environment variable. For more details, see https://huggingface.co/docs/huggingface_hub/how-to-cache#limitations.\n",
      "To support symlinks on Windows, you either need to activate Developer Mode or to run Python as an administrator. In order to activate developer mode, see this article: https://docs.microsoft.com/en-us/windows/apps/get-started/enable-your-device-for-development\n",
      "  warnings.warn(message)\n",
      "Generating train split: 100%|██████████| 110000/110000 [00:01<00:00, 106351.60 examples/s]\n"
     ]
    }
   ],
   "source": [
    "# Load dataset from Hugging Face\n",
    "dataset = load_dataset(\"simbolo-ai/hola\")"
   ]
  },
  {
   "cell_type": "code",
   "execution_count": 4,
   "metadata": {},
   "outputs": [],
   "source": [
    "# Convert to Pandas DataFrame\n",
    "df = pd.DataFrame(dataset[\"train\"])"
   ]
  },
  {
   "cell_type": "code",
   "execution_count": 6,
   "metadata": {},
   "outputs": [
    {
     "data": {
      "text/html": [
       "<div>\n",
       "<style scoped>\n",
       "    .dataframe tbody tr th:only-of-type {\n",
       "        vertical-align: middle;\n",
       "    }\n",
       "\n",
       "    .dataframe tbody tr th {\n",
       "        vertical-align: top;\n",
       "    }\n",
       "\n",
       "    .dataframe thead th {\n",
       "        text-align: right;\n",
       "    }\n",
       "</style>\n",
       "<table border=\"1\" class=\"dataframe\">\n",
       "  <thead>\n",
       "    <tr style=\"text-align: right;\">\n",
       "      <th></th>\n",
       "      <th>text</th>\n",
       "      <th>label</th>\n",
       "    </tr>\n",
       "  </thead>\n",
       "  <tbody>\n",
       "    <tr>\n",
       "      <th>0</th>\n",
       "      <td>Human evolution is the evolutionary process wi...</td>\n",
       "      <td>en</td>\n",
       "    </tr>\n",
       "    <tr>\n",
       "      <th>1</th>\n",
       "      <td>This process involved the gradual development ...</td>\n",
       "      <td>en</td>\n",
       "    </tr>\n",
       "    <tr>\n",
       "      <th>2</th>\n",
       "      <td>The study of human evolution involves several ...</td>\n",
       "      <td>en</td>\n",
       "    </tr>\n",
       "    <tr>\n",
       "      <th>3</th>\n",
       "      <td>Primates diverged from other mammals about 85 ...</td>\n",
       "      <td>en</td>\n",
       "    </tr>\n",
       "    <tr>\n",
       "      <th>4</th>\n",
       "      <td>Primates produced successive clades leading to...</td>\n",
       "      <td>en</td>\n",
       "    </tr>\n",
       "  </tbody>\n",
       "</table>\n",
       "</div>"
      ],
      "text/plain": [
       "                                                text label\n",
       "0  Human evolution is the evolutionary process wi...    en\n",
       "1  This process involved the gradual development ...    en\n",
       "2  The study of human evolution involves several ...    en\n",
       "3  Primates diverged from other mammals about 85 ...    en\n",
       "4  Primates produced successive clades leading to...    en"
      ]
     },
     "execution_count": 6,
     "metadata": {},
     "output_type": "execute_result"
    }
   ],
   "source": [
    "df.head()"
   ]
  },
  {
   "cell_type": "code",
   "execution_count": 7,
   "metadata": {},
   "outputs": [],
   "source": [
    "# Filter for English (en) and Burmese (my) texts\n",
    "df_en = df[df['label'] == 'en'].reset_index(drop=True)\n",
    "df_my = df[df['label'] == 'my'].reset_index(drop=True)"
   ]
  },
  {
   "cell_type": "code",
   "execution_count": 10,
   "metadata": {},
   "outputs": [],
   "source": [
    "# en and my alignment\n",
    "df_aligned = pd.DataFrame({\n",
    "    \"en\": df_en[\"text\"].values,\n",
    "    \"my\": df_my[\"text\"].values\n",
    "})"
   ]
  },
  {
   "cell_type": "code",
   "execution_count": 11,
   "metadata": {},
   "outputs": [],
   "source": [
    "# Apply preprocessing\n",
    "df_aligned[\"en\"] = df_aligned[\"en\"].apply(lambda x: preprocess_text(x, language=\"en\"))\n",
    "df_aligned[\"my\"] = df_aligned[\"my\"].apply(lambda x: preprocess_text(x, language=\"my\"))"
   ]
  },
  {
   "cell_type": "code",
   "execution_count": 13,
   "metadata": {},
   "outputs": [
    {
     "name": "stdout",
     "output_type": "stream",
     "text": [
      "Saved cleaned dataset: processed_main_data.csv\n"
     ]
    }
   ],
   "source": [
    "# Save the cleaned dataset\n",
    "df_aligned.to_csv(\"data/processed_main_data.csv\", index=False)\n",
    "print(\"Saved cleaned dataset: processed_main_data.csv\")"
   ]
  },
  {
   "cell_type": "code",
   "execution_count": 14,
   "metadata": {},
   "outputs": [],
   "source": [
    "# Split into train (80%), validation (10%), and test (10%)\n",
    "train, temp = train_test_split(df_aligned, test_size=0.2, random_state=42)\n",
    "val, test = train_test_split(temp, test_size=0.5, random_state=42)"
   ]
  },
  {
   "cell_type": "code",
   "execution_count": 16,
   "metadata": {},
   "outputs": [
    {
     "name": "stdout",
     "output_type": "stream",
     "text": [
      "Saved train dataset: en_my_train_80.csv\n",
      "Saved validation dataset: en_my_val_10.csv\n",
      "Saved test dataset: en_my_test_10.csv\n"
     ]
    }
   ],
   "source": [
    "# Save the splits\n",
    "train.to_csv(\"data/en_my_train_80.csv\", index=False)\n",
    "val.to_csv(\"data/en_my_val_10.csv\", index=False)\n",
    "test.to_csv(\"data/en_my_test_10.csv\", index=False)\n",
    "\n",
    "print(\"Saved train dataset: en_my_train_80.csv\")\n",
    "print(\"Saved validation dataset: en_my_val_10.csv\")\n",
    "print(\"Saved test dataset: en_my_test_10.csv\")"
   ]
  }
 ],
 "metadata": {
  "kernelspec": {
   "display_name": "venv",
   "language": "python",
   "name": "python3"
  },
  "language_info": {
   "codemirror_mode": {
    "name": "ipython",
    "version": 3
   },
   "file_extension": ".py",
   "mimetype": "text/x-python",
   "name": "python",
   "nbconvert_exporter": "python",
   "pygments_lexer": "ipython3",
   "version": "3.9.13"
  }
 },
 "nbformat": 4,
 "nbformat_minor": 2
}
